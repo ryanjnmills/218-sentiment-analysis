{
 "cells": [
  {
   "cell_type": "code",
   "execution_count": 1,
   "id": "1861c923",
   "metadata": {},
   "outputs": [],
   "source": [
    "import pandas as pd\n",
    "import numpy as np\n",
    "import matplotlib.pyplot as plt\n",
    "\n",
    "import re\n",
    "import nltk\n",
    "from nltk.corpus import stopwords\n",
    "from nltk.stem import SnowballStemmer\n",
    "\n",
    "from sklearn.model_selection import train_test_split\n",
    "from sklearn.feature_extraction.text import TfidfVectorizer"
   ]
  },
  {
   "cell_type": "code",
   "execution_count": 2,
   "id": "d423047c",
   "metadata": {},
   "outputs": [],
   "source": [
    "# NOTE: change destination folder of dataset to suit.\n",
    "sentiment140_data = pd.read_csv(\"datasets/training.1600000.processed.noemoticon.csv\", \n",
    "                                encoding=\"ISO-8859-1\", header=None, names=[\"target\",\"id\",\"date\",\"flag\",\"user\",\"text\"])"
   ]
  },
  {
   "cell_type": "code",
   "execution_count": 3,
   "id": "900de060",
   "metadata": {},
   "outputs": [],
   "source": [
    "# SAMPLING\n",
    "sentiment140_data = sentiment140_data.sample(frac=0.1, random_state=42)"
   ]
  },
  {
   "cell_type": "markdown",
   "id": "1673100f",
   "metadata": {},
   "source": [
    "# Data Exploration"
   ]
  },
  {
   "cell_type": "code",
   "execution_count": 4,
   "id": "2e3ca9f7",
   "metadata": {},
   "outputs": [
    {
     "data": {
      "text/html": [
       "<div>\n",
       "<style scoped>\n",
       "    .dataframe tbody tr th:only-of-type {\n",
       "        vertical-align: middle;\n",
       "    }\n",
       "\n",
       "    .dataframe tbody tr th {\n",
       "        vertical-align: top;\n",
       "    }\n",
       "\n",
       "    .dataframe thead th {\n",
       "        text-align: right;\n",
       "    }\n",
       "</style>\n",
       "<table border=\"1\" class=\"dataframe\">\n",
       "  <thead>\n",
       "    <tr style=\"text-align: right;\">\n",
       "      <th></th>\n",
       "      <th>target</th>\n",
       "      <th>id</th>\n",
       "      <th>date</th>\n",
       "      <th>flag</th>\n",
       "      <th>user</th>\n",
       "      <th>text</th>\n",
       "    </tr>\n",
       "  </thead>\n",
       "  <tbody>\n",
       "    <tr>\n",
       "      <th>541200</th>\n",
       "      <td>0</td>\n",
       "      <td>2200003196</td>\n",
       "      <td>Tue Jun 16 18:18:12 PDT 2009</td>\n",
       "      <td>NO_QUERY</td>\n",
       "      <td>LaLaLindsey0609</td>\n",
       "      <td>@chrishasboobs AHHH I HOPE YOUR OK!!!</td>\n",
       "    </tr>\n",
       "    <tr>\n",
       "      <th>750</th>\n",
       "      <td>0</td>\n",
       "      <td>1467998485</td>\n",
       "      <td>Mon Apr 06 23:11:14 PDT 2009</td>\n",
       "      <td>NO_QUERY</td>\n",
       "      <td>sexygrneyes</td>\n",
       "      <td>@misstoriblack cool , i have no tweet apps  fo...</td>\n",
       "    </tr>\n",
       "    <tr>\n",
       "      <th>766711</th>\n",
       "      <td>0</td>\n",
       "      <td>2300048954</td>\n",
       "      <td>Tue Jun 23 13:40:11 PDT 2009</td>\n",
       "      <td>NO_QUERY</td>\n",
       "      <td>sammydearr</td>\n",
       "      <td>@TiannaChaos i know  just family drama. its la...</td>\n",
       "    </tr>\n",
       "    <tr>\n",
       "      <th>285055</th>\n",
       "      <td>0</td>\n",
       "      <td>1993474027</td>\n",
       "      <td>Mon Jun 01 10:26:07 PDT 2009</td>\n",
       "      <td>NO_QUERY</td>\n",
       "      <td>Lamb_Leanne</td>\n",
       "      <td>School email won't open  and I have geography ...</td>\n",
       "    </tr>\n",
       "    <tr>\n",
       "      <th>705995</th>\n",
       "      <td>0</td>\n",
       "      <td>2256550904</td>\n",
       "      <td>Sat Jun 20 12:56:51 PDT 2009</td>\n",
       "      <td>NO_QUERY</td>\n",
       "      <td>yogicerdito</td>\n",
       "      <td>upper airways problem</td>\n",
       "    </tr>\n",
       "  </tbody>\n",
       "</table>\n",
       "</div>"
      ],
      "text/plain": [
       "        target          id                          date      flag  \\\n",
       "541200       0  2200003196  Tue Jun 16 18:18:12 PDT 2009  NO_QUERY   \n",
       "750          0  1467998485  Mon Apr 06 23:11:14 PDT 2009  NO_QUERY   \n",
       "766711       0  2300048954  Tue Jun 23 13:40:11 PDT 2009  NO_QUERY   \n",
       "285055       0  1993474027  Mon Jun 01 10:26:07 PDT 2009  NO_QUERY   \n",
       "705995       0  2256550904  Sat Jun 20 12:56:51 PDT 2009  NO_QUERY   \n",
       "\n",
       "                   user                                               text  \n",
       "541200  LaLaLindsey0609             @chrishasboobs AHHH I HOPE YOUR OK!!!   \n",
       "750         sexygrneyes  @misstoriblack cool , i have no tweet apps  fo...  \n",
       "766711       sammydearr  @TiannaChaos i know  just family drama. its la...  \n",
       "285055      Lamb_Leanne  School email won't open  and I have geography ...  \n",
       "705995      yogicerdito                             upper airways problem   "
      ]
     },
     "execution_count": 4,
     "metadata": {},
     "output_type": "execute_result"
    }
   ],
   "source": [
    "sentiment140_data.head()"
   ]
  },
  {
   "cell_type": "code",
   "execution_count": 5,
   "id": "808164ee",
   "metadata": {},
   "outputs": [
    {
     "data": {
      "text/html": [
       "<div>\n",
       "<style scoped>\n",
       "    .dataframe tbody tr th:only-of-type {\n",
       "        vertical-align: middle;\n",
       "    }\n",
       "\n",
       "    .dataframe tbody tr th {\n",
       "        vertical-align: top;\n",
       "    }\n",
       "\n",
       "    .dataframe thead th {\n",
       "        text-align: right;\n",
       "    }\n",
       "</style>\n",
       "<table border=\"1\" class=\"dataframe\">\n",
       "  <thead>\n",
       "    <tr style=\"text-align: right;\">\n",
       "      <th></th>\n",
       "      <th>target</th>\n",
       "      <th>id</th>\n",
       "      <th>date</th>\n",
       "      <th>flag</th>\n",
       "      <th>user</th>\n",
       "      <th>text</th>\n",
       "    </tr>\n",
       "  </thead>\n",
       "  <tbody>\n",
       "    <tr>\n",
       "      <th>1574177</th>\n",
       "      <td>4</td>\n",
       "      <td>2189199207</td>\n",
       "      <td>Mon Jun 15 23:28:21 PDT 2009</td>\n",
       "      <td>NO_QUERY</td>\n",
       "      <td>mainbasket</td>\n",
       "      <td>@willjonz thank you Will</td>\n",
       "    </tr>\n",
       "    <tr>\n",
       "      <th>49646</th>\n",
       "      <td>0</td>\n",
       "      <td>1678213724</td>\n",
       "      <td>Sat May 02 05:56:37 PDT 2009</td>\n",
       "      <td>NO_QUERY</td>\n",
       "      <td>MagicElla</td>\n",
       "      <td>@HeartlessHippie AAAAAAAAH what's wrong?!</td>\n",
       "    </tr>\n",
       "    <tr>\n",
       "      <th>1317229</th>\n",
       "      <td>4</td>\n",
       "      <td>2014242841</td>\n",
       "      <td>Wed Jun 03 00:53:53 PDT 2009</td>\n",
       "      <td>NO_QUERY</td>\n",
       "      <td>kewlrats</td>\n",
       "      <td>@samhouston Will see you there tomorrow at the...</td>\n",
       "    </tr>\n",
       "    <tr>\n",
       "      <th>520455</th>\n",
       "      <td>0</td>\n",
       "      <td>2192116541</td>\n",
       "      <td>Tue Jun 16 06:32:06 PDT 2009</td>\n",
       "      <td>NO_QUERY</td>\n",
       "      <td>iXombie</td>\n",
       "      <td>Forgot that Xbox Live would be down today.</td>\n",
       "    </tr>\n",
       "    <tr>\n",
       "      <th>427964</th>\n",
       "      <td>0</td>\n",
       "      <td>2063837266</td>\n",
       "      <td>Sun Jun 07 04:16:08 PDT 2009</td>\n",
       "      <td>NO_QUERY</td>\n",
       "      <td>laura0108</td>\n",
       "      <td>So I got up at 12 today and I have to get up a...</td>\n",
       "    </tr>\n",
       "  </tbody>\n",
       "</table>\n",
       "</div>"
      ],
      "text/plain": [
       "         target          id                          date      flag  \\\n",
       "1574177       4  2189199207  Mon Jun 15 23:28:21 PDT 2009  NO_QUERY   \n",
       "49646         0  1678213724  Sat May 02 05:56:37 PDT 2009  NO_QUERY   \n",
       "1317229       4  2014242841  Wed Jun 03 00:53:53 PDT 2009  NO_QUERY   \n",
       "520455        0  2192116541  Tue Jun 16 06:32:06 PDT 2009  NO_QUERY   \n",
       "427964        0  2063837266  Sun Jun 07 04:16:08 PDT 2009  NO_QUERY   \n",
       "\n",
       "               user                                               text  \n",
       "1574177  mainbasket                          @willjonz thank you Will   \n",
       "49646     MagicElla         @HeartlessHippie AAAAAAAAH what's wrong?!   \n",
       "1317229    kewlrats  @samhouston Will see you there tomorrow at the...  \n",
       "520455      iXombie        Forgot that Xbox Live would be down today.   \n",
       "427964    laura0108  So I got up at 12 today and I have to get up a...  "
      ]
     },
     "execution_count": 5,
     "metadata": {},
     "output_type": "execute_result"
    }
   ],
   "source": [
    "sentiment140_data.tail()"
   ]
  },
  {
   "cell_type": "code",
   "execution_count": 6,
   "id": "b7de069f",
   "metadata": {},
   "outputs": [
    {
     "data": {
      "text/plain": [
       "Index(['target', 'id', 'date', 'flag', 'user', 'text'], dtype='object')"
      ]
     },
     "execution_count": 6,
     "metadata": {},
     "output_type": "execute_result"
    }
   ],
   "source": [
    "sentiment140_data.columns"
   ]
  },
  {
   "cell_type": "code",
   "execution_count": 7,
   "id": "d0d83c81",
   "metadata": {},
   "outputs": [
    {
     "data": {
      "text/plain": [
       "160000"
      ]
     },
     "execution_count": 7,
     "metadata": {},
     "output_type": "execute_result"
    }
   ],
   "source": [
    "len(sentiment140_data)"
   ]
  },
  {
   "cell_type": "code",
   "execution_count": 8,
   "id": "4879ea12",
   "metadata": {},
   "outputs": [
    {
     "name": "stdout",
     "output_type": "stream",
     "text": [
      "<class 'pandas.core.frame.DataFrame'>\n",
      "Int64Index: 160000 entries, 541200 to 427964\n",
      "Data columns (total 6 columns):\n",
      " #   Column  Non-Null Count   Dtype \n",
      "---  ------  --------------   ----- \n",
      " 0   target  160000 non-null  int64 \n",
      " 1   id      160000 non-null  int64 \n",
      " 2   date    160000 non-null  object\n",
      " 3   flag    160000 non-null  object\n",
      " 4   user    160000 non-null  object\n",
      " 5   text    160000 non-null  object\n",
      "dtypes: int64(2), object(4)\n",
      "memory usage: 8.5+ MB\n"
     ]
    }
   ],
   "source": [
    "sentiment140_data.info()"
   ]
  },
  {
   "cell_type": "code",
   "execution_count": 9,
   "id": "491af793",
   "metadata": {},
   "outputs": [
    {
     "data": {
      "text/plain": [
       "0"
      ]
     },
     "execution_count": 9,
     "metadata": {},
     "output_type": "execute_result"
    }
   ],
   "source": [
    "np.sum(sentiment140_data.isnull().any(axis=1))"
   ]
  },
  {
   "cell_type": "code",
   "execution_count": 10,
   "id": "6b4c5d0e",
   "metadata": {},
   "outputs": [
    {
     "data": {
      "image/png": "[encoded data removed]",
      "text/plain": [
       "<Figure size 640x480 with 1 Axes>"
      ]
     },
     "metadata": {},
     "output_type": "display_data"
    }
   ],
   "source": [
    "# Bar chart to check for data imbalance.\n",
    "value_counts = sentiment140_data[\"target\"].value_counts()\n",
    "plt.bar(value_counts.index, value_counts.values)\n",
    "plt.xlabel(\"Sentiment Values\")\n",
    "plt.ylabel(\"Frequency\")\n",
    "plt.title(\"Distribution of Sentiment Values\")\n",
    "plt.xticks(value_counts.index)\n",
    "plt.show()"
   ]
  },
  {
   "cell_type": "markdown",
   "id": "6059fa46",
   "metadata": {},
   "source": [
    "# Data Preprocessing"
   ]
  },
  {
   "cell_type": "markdown",
   "id": "67648a49",
   "metadata": {},
   "source": [
    "## Drop columns that arent needed"
   ]
  },
  {
   "cell_type": "code",
   "execution_count": 11,
   "id": "fe0f32be",
   "metadata": {},
   "outputs": [],
   "source": [
    "data = sentiment140_data.drop([\"id\",\"date\",\"flag\",\"user\"], axis=1)"
   ]
  },
  {
   "cell_type": "code",
   "execution_count": 12,
   "id": "dfb35660",
   "metadata": {},
   "outputs": [
    {
     "data": {
      "text/html": [
       "<div>\n",
       "<style scoped>\n",
       "    .dataframe tbody tr th:only-of-type {\n",
       "        vertical-align: middle;\n",
       "    }\n",
       "\n",
       "    .dataframe tbody tr th {\n",
       "        vertical-align: top;\n",
       "    }\n",
       "\n",
       "    .dataframe thead th {\n",
       "        text-align: right;\n",
       "    }\n",
       "</style>\n",
       "<table border=\"1\" class=\"dataframe\">\n",
       "  <thead>\n",
       "    <tr style=\"text-align: right;\">\n",
       "      <th></th>\n",
       "      <th>target</th>\n",
       "      <th>text</th>\n",
       "    </tr>\n",
       "  </thead>\n",
       "  <tbody>\n",
       "    <tr>\n",
       "      <th>541200</th>\n",
       "      <td>0</td>\n",
       "      <td>@chrishasboobs AHHH I HOPE YOUR OK!!!</td>\n",
       "    </tr>\n",
       "    <tr>\n",
       "      <th>750</th>\n",
       "      <td>0</td>\n",
       "      <td>@misstoriblack cool , i have no tweet apps  fo...</td>\n",
       "    </tr>\n",
       "    <tr>\n",
       "      <th>766711</th>\n",
       "      <td>0</td>\n",
       "      <td>@TiannaChaos i know  just family drama. its la...</td>\n",
       "    </tr>\n",
       "    <tr>\n",
       "      <th>285055</th>\n",
       "      <td>0</td>\n",
       "      <td>School email won't open  and I have geography ...</td>\n",
       "    </tr>\n",
       "    <tr>\n",
       "      <th>705995</th>\n",
       "      <td>0</td>\n",
       "      <td>upper airways problem</td>\n",
       "    </tr>\n",
       "  </tbody>\n",
       "</table>\n",
       "</div>"
      ],
      "text/plain": [
       "        target                                               text\n",
       "541200       0             @chrishasboobs AHHH I HOPE YOUR OK!!! \n",
       "750          0  @misstoriblack cool , i have no tweet apps  fo...\n",
       "766711       0  @TiannaChaos i know  just family drama. its la...\n",
       "285055       0  School email won't open  and I have geography ...\n",
       "705995       0                             upper airways problem "
      ]
     },
     "execution_count": 12,
     "metadata": {},
     "output_type": "execute_result"
    }
   ],
   "source": [
    "data.head()"
   ]
  },
  {
   "cell_type": "markdown",
   "id": "720a3c16",
   "metadata": {},
   "source": [
    "## Convert sentiment target values from integer to string"
   ]
  },
  {
   "cell_type": "code",
   "execution_count": 13,
   "id": "7ff399fd",
   "metadata": {},
   "outputs": [],
   "source": [
    "LABEL_MAP = {0:\"Negative\", 2:\"Neutral\", 4:\"Positive\"}\n",
    "def label_decoder(label):\n",
    "    return LABEL_MAP[label]"
   ]
  },
  {
   "cell_type": "code",
   "execution_count": 14,
   "id": "45cce608",
   "metadata": {},
   "outputs": [
    {
     "data": {
      "text/html": [
       "<div>\n",
       "<style scoped>\n",
       "    .dataframe tbody tr th:only-of-type {\n",
       "        vertical-align: middle;\n",
       "    }\n",
       "\n",
       "    .dataframe tbody tr th {\n",
       "        vertical-align: top;\n",
       "    }\n",
       "\n",
       "    .dataframe thead th {\n",
       "        text-align: right;\n",
       "    }\n",
       "</style>\n",
       "<table border=\"1\" class=\"dataframe\">\n",
       "  <thead>\n",
       "    <tr style=\"text-align: right;\">\n",
       "      <th></th>\n",
       "      <th>target</th>\n",
       "      <th>text</th>\n",
       "    </tr>\n",
       "  </thead>\n",
       "  <tbody>\n",
       "    <tr>\n",
       "      <th>541200</th>\n",
       "      <td>Negative</td>\n",
       "      <td>@chrishasboobs AHHH I HOPE YOUR OK!!!</td>\n",
       "    </tr>\n",
       "    <tr>\n",
       "      <th>750</th>\n",
       "      <td>Negative</td>\n",
       "      <td>@misstoriblack cool , i have no tweet apps  fo...</td>\n",
       "    </tr>\n",
       "    <tr>\n",
       "      <th>766711</th>\n",
       "      <td>Negative</td>\n",
       "      <td>@TiannaChaos i know  just family drama. its la...</td>\n",
       "    </tr>\n",
       "    <tr>\n",
       "      <th>285055</th>\n",
       "      <td>Negative</td>\n",
       "      <td>School email won't open  and I have geography ...</td>\n",
       "    </tr>\n",
       "    <tr>\n",
       "      <th>705995</th>\n",
       "      <td>Negative</td>\n",
       "      <td>upper airways problem</td>\n",
       "    </tr>\n",
       "  </tbody>\n",
       "</table>\n",
       "</div>"
      ],
      "text/plain": [
       "          target                                               text\n",
       "541200  Negative             @chrishasboobs AHHH I HOPE YOUR OK!!! \n",
       "750     Negative  @misstoriblack cool , i have no tweet apps  fo...\n",
       "766711  Negative  @TiannaChaos i know  just family drama. its la...\n",
       "285055  Negative  School email won't open  and I have geography ...\n",
       "705995  Negative                             upper airways problem "
      ]
     },
     "execution_count": 14,
     "metadata": {},
     "output_type": "execute_result"
    }
   ],
   "source": [
    "data.target = data.target.apply(lambda x: label_decoder(x))\n",
    "data.head()"
   ]
  },
  {
   "cell_type": "code",
   "execution_count": 15,
   "id": "41bd7400",
   "metadata": {},
   "outputs": [
    {
     "data": {
      "image/png": "[encoded data removed]",
      "text/plain": [
       "<Figure size 640x480 with 1 Axes>"
      ]
     },
     "metadata": {},
     "output_type": "display_data"
    }
   ],
   "source": [
    "value_counts = data[\"target\"].value_counts()\n",
    "plt.bar(value_counts.index, value_counts.values)\n",
    "plt.xlabel(\"Sentiment\")\n",
    "plt.ylabel(\"Frequency\")\n",
    "plt.title(\"Distribution of Sentiment Values\")\n",
    "plt.xticks(value_counts.index)\n",
    "plt.show()"
   ]
  },
  {
   "cell_type": "markdown",
   "id": "8659f11e",
   "metadata": {},
   "source": [
    "## Data Cleaning"
   ]
  },
  {
   "cell_type": "code",
   "execution_count": 16,
   "id": "89d669f2",
   "metadata": {},
   "outputs": [
    {
     "data": {
      "text/plain": [
       "True"
      ]
     },
     "execution_count": 16,
     "metadata": {},
     "output_type": "execute_result"
    }
   ],
   "source": [
    "nltk.download('stopwords', quiet=True)"
   ]
  },
  {
   "cell_type": "code",
   "execution_count": 17,
   "id": "e9f9d094",
   "metadata": {},
   "outputs": [],
   "source": [
    "# TODO: handle emojis if time\n",
    "stop_words = stopwords.words(\"english\")\n",
    "stemmer = SnowballStemmer(\"english\")\n",
    "TEXT_RE = \"@\\S+|https?:\\S+|http?:\\S|[^A-Za-z0-9]+\""
   ]
  },
  {
   "cell_type": "code",
   "execution_count": 18,
   "id": "20525c11",
   "metadata": {},
   "outputs": [],
   "source": [
    "def preprocess(text, stem=False):\n",
    "    text = re.sub(TEXT_RE, \" \", str(text).lower()).strip()\n",
    "    tokens = []\n",
    "    for token in text.split():\n",
    "        if token not in stop_words:\n",
    "            if stem:\n",
    "                tokens.append(stemmer.stem(token))\n",
    "            else:\n",
    "                tokens.append(token)\n",
    "    return \" \".join(tokens)"
   ]
  },
  {
   "cell_type": "code",
   "execution_count": 19,
   "id": "68aa9547",
   "metadata": {},
   "outputs": [
    {
     "name": "stdout",
     "output_type": "stream",
     "text": [
      "CPU times: total: 1.72 s\n",
      "Wall time: 4.06 s\n"
     ]
    },
    {
     "data": {
      "text/html": [
       "<div>\n",
       "<style scoped>\n",
       "    .dataframe tbody tr th:only-of-type {\n",
       "        vertical-align: middle;\n",
       "    }\n",
       "\n",
       "    .dataframe tbody tr th {\n",
       "        vertical-align: top;\n",
       "    }\n",
       "\n",
       "    .dataframe thead th {\n",
       "        text-align: right;\n",
       "    }\n",
       "</style>\n",
       "<table border=\"1\" class=\"dataframe\">\n",
       "  <thead>\n",
       "    <tr style=\"text-align: right;\">\n",
       "      <th></th>\n",
       "      <th>target</th>\n",
       "      <th>text</th>\n",
       "    </tr>\n",
       "  </thead>\n",
       "  <tbody>\n",
       "    <tr>\n",
       "      <th>541200</th>\n",
       "      <td>Negative</td>\n",
       "      <td>ahhh hope ok</td>\n",
       "    </tr>\n",
       "    <tr>\n",
       "      <th>750</th>\n",
       "      <td>Negative</td>\n",
       "      <td>cool tweet apps razr 2</td>\n",
       "    </tr>\n",
       "    <tr>\n",
       "      <th>766711</th>\n",
       "      <td>Negative</td>\n",
       "      <td>know family drama lame hey next time u hang ki...</td>\n",
       "    </tr>\n",
       "    <tr>\n",
       "      <th>285055</th>\n",
       "      <td>Negative</td>\n",
       "      <td>school email open geography stuff revise stupi...</td>\n",
       "    </tr>\n",
       "    <tr>\n",
       "      <th>705995</th>\n",
       "      <td>Negative</td>\n",
       "      <td>upper airways problem</td>\n",
       "    </tr>\n",
       "  </tbody>\n",
       "</table>\n",
       "</div>"
      ],
      "text/plain": [
       "          target                                               text\n",
       "541200  Negative                                       ahhh hope ok\n",
       "750     Negative                             cool tweet apps razr 2\n",
       "766711  Negative  know family drama lame hey next time u hang ki...\n",
       "285055  Negative  school email open geography stuff revise stupi...\n",
       "705995  Negative                              upper airways problem"
      ]
     },
     "execution_count": 19,
     "metadata": {},
     "output_type": "execute_result"
    }
   ],
   "source": [
    "%%time\n",
    "data[\"text\"] = data[\"text\"].apply(lambda x: preprocess(x))\n",
    "data.head()"
   ]
  },
  {
   "cell_type": "markdown",
   "id": "85233716",
   "metadata": {},
   "source": [
    "## Train Test Split"
   ]
  },
  {
   "cell_type": "code",
   "execution_count": 20,
   "id": "5dd5adc5",
   "metadata": {},
   "outputs": [],
   "source": [
    "# TODO: remove X and Y later when/if not needed\n",
    "X = data[\"text\"]\n",
    "y = data[\"target\"]\n",
    "\n",
    "TRAIN_SIZE = 0.7\n",
    "train, test = train_test_split(data, test_size=1-TRAIN_SIZE, random_state=42)\n",
    "X_train = train[\"text\"]\n",
    "X_test = test[\"text\"]\n",
    "y_train = train[\"target\"]\n",
    "y_test = test[\"target\"]"
   ]
  },
  {
   "cell_type": "code",
   "execution_count": 21,
   "id": "81b32ba8",
   "metadata": {},
   "outputs": [
    {
     "name": "stdout",
     "output_type": "stream",
     "text": [
      "(111999,)\n",
      "(48001,)\n",
      "(111999,)\n",
      "(48001,)\n"
     ]
    }
   ],
   "source": [
    "print(X_train.shape)\n",
    "print(X_test.shape)\n",
    "print(y_train.shape)\n",
    "print(y_test.shape)"
   ]
  },
  {
   "cell_type": "code",
   "execution_count": 22,
   "id": "9af04f21",
   "metadata": {},
   "outputs": [
    {
     "data": {
      "text/plain": [
       "541200                                         ahhh hope ok\n",
       "750                                  cool tweet apps razr 2\n",
       "766711    know family drama lame hey next time u hang ki...\n",
       "285055    school email open geography stuff revise stupi...\n",
       "705995                                upper airways problem\n",
       "Name: text, dtype: object"
      ]
     },
     "execution_count": 22,
     "metadata": {},
     "output_type": "execute_result"
    }
   ],
   "source": [
    "X.head()"
   ]
  },
  {
   "cell_type": "code",
   "execution_count": 23,
   "id": "099478ec",
   "metadata": {},
   "outputs": [
    {
     "data": {
      "text/plain": [
       "541200    Negative\n",
       "750       Negative\n",
       "766711    Negative\n",
       "285055    Negative\n",
       "705995    Negative\n",
       "Name: target, dtype: object"
      ]
     },
     "execution_count": 23,
     "metadata": {},
     "output_type": "execute_result"
    }
   ],
   "source": [
    "y.head()"
   ]
  },
  {
   "cell_type": "markdown",
   "id": "a9ada3db",
   "metadata": {},
   "source": [
    "# Feature Extraction"
   ]
  },
  {
   "cell_type": "markdown",
   "id": "96a90cd1",
   "metadata": {},
   "source": [
    "## TF-IDF"
   ]
  },
  {
   "cell_type": "code",
   "execution_count": 24,
   "id": "b27bdafc",
   "metadata": {},
   "outputs": [],
   "source": [
    "NGRAM_RANGE = (1,2)\n",
    "#MAX_FEATURES = 50000\n",
    "tfidf = TfidfVectorizer(ngram_range=NGRAM_RANGE)"
   ]
  },
  {
   "cell_type": "code",
   "execution_count": 25,
   "id": "86c252b8",
   "metadata": {},
   "outputs": [
    {
     "name": "stdout",
     "output_type": "stream",
     "text": [
      "CPU times: total: 3.44 s\n",
      "Wall time: 4.87 s\n"
     ]
    },
    {
     "data": {
      "text/html": [
       "<style>#sk-container-id-1 {color: black;}#sk-container-id-1 pre{padding: 0;}#sk-container-id-1 div.sk-toggleable {background-color: white;}#sk-container-id-1 label.sk-toggleable__label {cursor: pointer;display: block;width: 100%;margin-bottom: 0;padding: 0.3em;box-sizing: border-box;text-align: center;}#sk-container-id-1 label.sk-toggleable__label-arrow:before {content: \"▸\";float: left;margin-right: 0.25em;color: #696969;}#sk-container-id-1 label.sk-toggleable__label-arrow:hover:before {color: black;}#sk-container-id-1 div.sk-estimator:hover label.sk-toggleable__label-arrow:before {color: black;}#sk-container-id-1 div.sk-toggleable__content {max-height: 0;max-width: 0;overflow: hidden;text-align: left;background-color: #f0f8ff;}#sk-container-id-1 div.sk-toggleable__content pre {margin: 0.2em;color: black;border-radius: 0.25em;background-color: #f0f8ff;}#sk-container-id-1 input.sk-toggleable__control:checked~div.sk-toggleable__content {max-height: 200px;max-width: 100%;overflow: auto;}#sk-container-id-1 input.sk-toggleable__control:checked~label.sk-toggleable__label-arrow:before {content: \"▾\";}#sk-container-id-1 div.sk-estimator input.sk-toggleable__control:checked~label.sk-toggleable__label {background-color: #d4ebff;}#sk-container-id-1 div.sk-label input.sk-toggleable__control:checked~label.sk-toggleable__label {background-color: #d4ebff;}#sk-container-id-1 input.sk-hidden--visually {border: 0;clip: rect(1px 1px 1px 1px);clip: rect(1px, 1px, 1px, 1px);height: 1px;margin: -1px;overflow: hidden;padding: 0;position: absolute;width: 1px;}#sk-container-id-1 div.sk-estimator {font-family: monospace;background-color: #f0f8ff;border: 1px dotted black;border-radius: 0.25em;box-sizing: border-box;margin-bottom: 0.5em;}#sk-container-id-1 div.sk-estimator:hover {background-color: #d4ebff;}#sk-container-id-1 div.sk-parallel-item::after {content: \"\";width: 100%;border-bottom: 1px solid gray;flex-grow: 1;}#sk-container-id-1 div.sk-label:hover label.sk-toggleable__label {background-color: #d4ebff;}#sk-container-id-1 div.sk-serial::before {content: \"\";position: absolute;border-left: 1px solid gray;box-sizing: border-box;top: 0;bottom: 0;left: 50%;z-index: 0;}#sk-container-id-1 div.sk-serial {display: flex;flex-direction: column;align-items: center;background-color: white;padding-right: 0.2em;padding-left: 0.2em;position: relative;}#sk-container-id-1 div.sk-item {position: relative;z-index: 1;}#sk-container-id-1 div.sk-parallel {display: flex;align-items: stretch;justify-content: center;background-color: white;position: relative;}#sk-container-id-1 div.sk-item::before, #sk-container-id-1 div.sk-parallel-item::before {content: \"\";position: absolute;border-left: 1px solid gray;box-sizing: border-box;top: 0;bottom: 0;left: 50%;z-index: -1;}#sk-container-id-1 div.sk-parallel-item {display: flex;flex-direction: column;z-index: 1;position: relative;background-color: white;}#sk-container-id-1 div.sk-parallel-item:first-child::after {align-self: flex-end;width: 50%;}#sk-container-id-1 div.sk-parallel-item:last-child::after {align-self: flex-start;width: 50%;}#sk-container-id-1 div.sk-parallel-item:only-child::after {width: 0;}#sk-container-id-1 div.sk-dashed-wrapped {border: 1px dashed gray;margin: 0 0.4em 0.5em 0.4em;box-sizing: border-box;padding-bottom: 0.4em;background-color: white;}#sk-container-id-1 div.sk-label label {font-family: monospace;font-weight: bold;display: inline-block;line-height: 1.2em;}#sk-container-id-1 div.sk-label-container {text-align: center;}#sk-container-id-1 div.sk-container {/* jupyter's `normalize.less` sets `[hidden] { display: none; }` but bootstrap.min.css set `[hidden] { display: none !important; }` so we also need the `!important` here to be able to override the default hidden behavior on the sphinx rendered scikit-learn.org. See: https://github.com/scikit-learn/scikit-learn/issues/21755 */display: inline-block !important;position: relative;}#sk-container-id-1 div.sk-text-repr-fallback {display: none;}</style><div id=\"sk-container-id-1\" class=\"sk-top-container\"><div class=\"sk-text-repr-fallback\"><pre>TfidfVectorizer(ngram_range=(1, 2))</pre><b>In a Jupyter environment, please rerun this cell to show the HTML representation or trust the notebook. <br />On GitHub, the HTML representation is unable to render, please try loading this page with nbviewer.org.</b></div><div class=\"sk-container\" hidden><div class=\"sk-item\"><div class=\"sk-estimator sk-toggleable\"><input class=\"sk-toggleable__control sk-hidden--visually\" id=\"sk-estimator-id-1\" type=\"checkbox\" checked><label for=\"sk-estimator-id-1\" class=\"sk-toggleable__label sk-toggleable__label-arrow\">TfidfVectorizer</label><div class=\"sk-toggleable__content\"><pre>TfidfVectorizer(ngram_range=(1, 2))</pre></div></div></div></div></div>"
      ],
      "text/plain": [
       "TfidfVectorizer(ngram_range=(1, 2))"
      ]
     },
     "execution_count": 25,
     "metadata": {},
     "output_type": "execute_result"
    }
   ],
   "source": [
    "%%time\n",
    "tfidf.fit(X_train)"
   ]
  },
  {
   "cell_type": "code",
   "execution_count": 26,
   "id": "8b13733e",
   "metadata": {
    "scrolled": true
   },
   "outputs": [
    {
     "name": "stdout",
     "output_type": "stream",
     "text": [
      "CPU times: total: 3.03 s\n",
      "Wall time: 5.23 s\n"
     ]
    }
   ],
   "source": [
    "%%time\n",
    "X_train_tfidf = tfidf.transform(X_train)\n",
    "X_test_tfidf = tfidf.transform(X_test)"
   ]
  },
  {
   "cell_type": "markdown",
   "id": "60f33c84",
   "metadata": {},
   "source": [
    "## Word Embedding"
   ]
  },
  {
   "cell_type": "markdown",
   "id": "aef5de5f",
   "metadata": {},
   "source": [
    "### Word Tokenization for Embedding"
   ]
  },
  {
   "cell_type": "code",
   "execution_count": 27,
   "id": "ca88cfef",
   "metadata": {},
   "outputs": [
    {
     "data": {
      "text/plain": [
       "229771                                                 [bad]\n",
       "1193312    [played, cute, nephew, today, gonna, go, dinne...\n",
       "1468679    [could, sunny, everyday, rain, cold, weather, ...\n",
       "1195724                         [n, dont, worry, back, soon]\n",
       "794333                         [nooooo, leave, 5, 30, today]\n",
       "Name: text, dtype: object"
      ]
     },
     "execution_count": 27,
     "metadata": {},
     "output_type": "execute_result"
    }
   ],
   "source": [
    "# NLTK tokenizer\n",
    "from nltk.tokenize import RegexpTokenizer\n",
    "regexp = RegexpTokenizer(r'\\w+')\n",
    "X_train_tk = X_train.apply(regexp.tokenize)\n",
    "X_train_tk.head()"
   ]
  },
  {
   "cell_type": "code",
   "execution_count": 28,
   "id": "e0b2573f",
   "metadata": {},
   "outputs": [
    {
     "data": {
      "text/plain": [
       "111999"
      ]
     },
     "execution_count": 28,
     "metadata": {},
     "output_type": "execute_result"
    }
   ],
   "source": [
    "len(X_train_tk)"
   ]
  },
  {
   "cell_type": "markdown",
   "id": "72ba6f94",
   "metadata": {},
   "source": [
    "### Word2Vec"
   ]
  },
  {
   "cell_type": "code",
   "execution_count": 29,
   "id": "30ed089f",
   "metadata": {},
   "outputs": [],
   "source": [
    "import gensim\n",
    "from gensim.models import Word2Vec"
   ]
  },
  {
   "cell_type": "code",
   "execution_count": 30,
   "id": "4ac3752c",
   "metadata": {},
   "outputs": [
    {
     "name": "stdout",
     "output_type": "stream",
     "text": [
      "CPU times: total: 2min 45s\n",
      "Wall time: 26.7 s\n"
     ]
    }
   ],
   "source": [
    "%%time\n",
    "VECTOR_SIZE = 300\n",
    "EPOCHS = 16\n",
    "word2Vec = gensim.models.Word2Vec(X_train_tk, min_count=5, vector_size=VECTOR_SIZE, window=5, workers=8, sg=1, epochs=EPOCHS, seed=42)"
   ]
  },
  {
   "cell_type": "code",
   "execution_count": 31,
   "id": "889e49ba",
   "metadata": {},
   "outputs": [
    {
     "data": {
      "text/plain": [
       "[('cloudy', 0.5341755151748657),\n",
       " ('sunny', 0.5191501379013062),\n",
       " ('rainy', 0.5126966834068298),\n",
       " ('humid', 0.5032073855400085),\n",
       " ('gloom', 0.501520037651062)]"
      ]
     },
     "execution_count": 31,
     "metadata": {},
     "output_type": "execute_result"
    }
   ],
   "source": [
    "word2Vec.wv.most_similar('weather', topn=5)"
   ]
  },
  {
   "cell_type": "code",
   "execution_count": 32,
   "id": "4cf4a41e",
   "metadata": {},
   "outputs": [],
   "source": [
    "word2Vec.save(\"word2Vec.model\")"
   ]
  },
  {
   "cell_type": "code",
   "execution_count": 33,
   "id": "8d57f725",
   "metadata": {},
   "outputs": [],
   "source": [
    "word2Vec = Word2Vec.load(\"word2Vec.model\")"
   ]
  },
  {
   "cell_type": "markdown",
   "id": "1986a604",
   "metadata": {},
   "source": [
    "### Label Encoding"
   ]
  },
  {
   "cell_type": "code",
   "execution_count": 34,
   "id": "c35e16bb",
   "metadata": {},
   "outputs": [],
   "source": [
    "from sklearn.preprocessing import LabelEncoder"
   ]
  },
  {
   "cell_type": "code",
   "execution_count": 35,
   "id": "19346f6b",
   "metadata": {
    "scrolled": true
   },
   "outputs": [],
   "source": [
    "le = LabelEncoder()\n",
    "y_train_le = le.fit_transform(y_train.tolist())\n",
    "y_test_le = le.transform(y_test.tolist())\n",
    "\n",
    "y_train_le = y_train_le.reshape(-1,1)\n",
    "y_test_le = y_test_le.reshape(-1,1)"
   ]
  },
  {
   "cell_type": "markdown",
   "id": "4c9d7cd8",
   "metadata": {},
   "source": [
    "# Machine Learning Models"
   ]
  },
  {
   "cell_type": "markdown",
   "id": "9de8bffc",
   "metadata": {},
   "source": [
    "## Support Vector Machine"
   ]
  },
  {
   "cell_type": "code",
   "execution_count": null,
   "id": "db2826b5",
   "metadata": {},
   "outputs": [],
   "source": []
  },
  {
   "cell_type": "code",
   "execution_count": null,
   "id": "e9cff612",
   "metadata": {},
   "outputs": [],
   "source": []
  },
  {
   "cell_type": "markdown",
   "id": "7e66ba52",
   "metadata": {},
   "source": [
    "## Long Short-Term Memory Network"
   ]
  },
  {
   "cell_type": "markdown",
   "id": "e5ab89dd",
   "metadata": {},
   "source": [
    "### Tokenization and Padding"
   ]
  },
  {
   "cell_type": "code",
   "execution_count": 36,
   "id": "13996d37",
   "metadata": {},
   "outputs": [],
   "source": [
    "from keras.preprocessing.text import Tokenizer\n",
    "#from keras.preprocessing.sequence import pad_sequences\n",
    "from keras.utils import pad_sequences"
   ]
  },
  {
   "cell_type": "code",
   "execution_count": 37,
   "id": "ffd6d281",
   "metadata": {},
   "outputs": [
    {
     "name": "stdout",
     "output_type": "stream",
     "text": [
      "Vocabulary Size : 77822\n",
      "CPU times: total: 4.42 s\n",
      "Wall time: 5.49 s\n"
     ]
    }
   ],
   "source": [
    "%%time\n",
    "tokenizer = Tokenizer()\n",
    "tokenizer.fit_on_texts(X)\n",
    "\n",
    "sequences = tokenizer.texts_to_sequences(X)\n",
    "vocab_size = len(tokenizer.word_index) + 1\n",
    "print(\"Vocabulary Size :\", vocab_size)"
   ]
  },
  {
   "cell_type": "code",
   "execution_count": 38,
   "id": "24d32969",
   "metadata": {},
   "outputs": [
    {
     "name": "stdout",
     "output_type": "stream",
     "text": [
      "(111999, 100)\n",
      "(48001, 100)\n",
      "CPU times: total: 2.88 s\n",
      "Wall time: 3.67 s\n"
     ]
    }
   ],
   "source": [
    "%%time\n",
    "MAX_SEQUENCE_LENGTH = 100\n",
    "X_train_tk = pad_sequences(tokenizer.texts_to_sequences(X_train), maxlen=MAX_SEQUENCE_LENGTH)\n",
    "X_test_tk = pad_sequences(tokenizer.texts_to_sequences(X_test), maxlen=MAX_SEQUENCE_LENGTH)\n",
    "\n",
    "print(X_train_tk.shape)\n",
    "print(X_test_tk.shape)"
   ]
  },
  {
   "cell_type": "markdown",
   "id": "17cd8ff3",
   "metadata": {},
   "source": [
    "### Model"
   ]
  },
  {
   "cell_type": "code",
   "execution_count": 39,
   "id": "14e70631",
   "metadata": {},
   "outputs": [],
   "source": [
    "import tensorflow as tf\n",
    "from tensorflow.keras.models import Sequential\n",
    "from tensorflow.keras.layers import Embedding, LSTM, Dense, Dropout"
   ]
  },
  {
   "cell_type": "code",
   "execution_count": 40,
   "id": "bea745ba",
   "metadata": {
    "scrolled": true
   },
   "outputs": [
    {
     "name": "stdout",
     "output_type": "stream",
     "text": [
      "(77822, 300)\n"
     ]
    }
   ],
   "source": [
    "embedding_matrix = np.zeros((vocab_size, VECTOR_SIZE))\n",
    "for word, i in tokenizer.word_index.items():\n",
    "    if word in word2Vec.wv:\n",
    "        embedding_matrix[i] = word2Vec.wv[word]\n",
    "print(embedding_matrix.shape)"
   ]
  },
  {
   "cell_type": "code",
   "execution_count": 41,
   "id": "b8441daf",
   "metadata": {},
   "outputs": [],
   "source": [
    "embedding_layer = Embedding(\n",
    "    vocab_size, \n",
    "    VECTOR_SIZE, \n",
    "    weights=[embedding_matrix], \n",
    "    input_length=MAX_SEQUENCE_LENGTH, \n",
    "    trainable=False )"
   ]
  },
  {
   "cell_type": "code",
   "execution_count": 42,
   "id": "3c7a0151",
   "metadata": {
    "scrolled": true
   },
   "outputs": [
    {
     "name": "stdout",
     "output_type": "stream",
     "text": [
      "Model: \"sequential\"\n",
      "_________________________________________________________________\n",
      " Layer (type)                Output Shape              Param #   \n",
      "=================================================================\n",
      " embedding (Embedding)       (None, 100, 300)          23346600  \n",
      "                                                                 \n",
      " dropout (Dropout)           (None, 100, 300)          0         \n",
      "                                                                 \n",
      " lstm (LSTM)                 (None, 64)                93440     \n",
      "                                                                 \n",
      " dense (Dense)               (None, 1)                 65        \n",
      "                                                                 \n",
      "=================================================================\n",
      "Total params: 23440105 (89.42 MB)\n",
      "Trainable params: 93505 (365.25 KB)\n",
      "Non-trainable params: 23346600 (89.06 MB)\n",
      "_________________________________________________________________\n"
     ]
    }
   ],
   "source": [
    "lstm = Sequential()\n",
    "lstm.add(embedding_layer)\n",
    "lstm.add(Dropout(0.5))\n",
    "lstm.add(LSTM(64, dropout=0.2, recurrent_dropout=0.2))\n",
    "lstm.add(Dense(1))\n",
    "\n",
    "lstm.summary()"
   ]
  },
  {
   "cell_type": "code",
   "execution_count": 43,
   "id": "f0cab099",
   "metadata": {},
   "outputs": [
    {
     "name": "stdout",
     "output_type": "stream",
     "text": [
      "CPU times: total: 0 ns\n",
      "Wall time: 13.5 ms\n"
     ]
    }
   ],
   "source": [
    "%%time\n",
    "lstm.compile(optimizer=\"adam\", loss=\"binary_crossentropy\", metrics=[\"accuracy\"])"
   ]
  },
  {
   "cell_type": "code",
   "execution_count": 44,
   "id": "547890d9",
   "metadata": {},
   "outputs": [
    {
     "name": "stdout",
     "output_type": "stream",
     "text": [
      "Epoch 1/8\n",
      "99/99 [==============================] - 341s 3s/step - loss: 0.8154 - accuracy: 0.5665 - val_loss: 0.6302 - val_accuracy: 0.6537\n",
      "Epoch 2/8\n",
      "99/99 [==============================] - 358s 4s/step - loss: 0.6173 - accuracy: 0.6679 - val_loss: 0.5584 - val_accuracy: 0.7230\n",
      "Epoch 3/8\n",
      "99/99 [==============================] - 360s 4s/step - loss: 0.5921 - accuracy: 0.6943 - val_loss: 0.5532 - val_accuracy: 0.7281\n",
      "Epoch 4/8\n",
      "99/99 [==============================] - 362s 4s/step - loss: 0.5834 - accuracy: 0.7033 - val_loss: 0.5575 - val_accuracy: 0.7282\n",
      "Epoch 5/8\n",
      "99/99 [==============================] - 361s 4s/step - loss: 0.7057 - accuracy: 0.6632 - val_loss: 0.7548 - val_accuracy: 0.5223\n",
      "Epoch 6/8\n",
      "99/99 [==============================] - 368s 4s/step - loss: 0.6724 - accuracy: 0.5935 - val_loss: 0.6328 - val_accuracy: 0.6506\n",
      "Epoch 7/8\n",
      "99/99 [==============================] - 372s 4s/step - loss: 0.6295 - accuracy: 0.6452 - val_loss: 0.5925 - val_accuracy: 0.6894\n",
      "Epoch 8/8\n",
      "99/99 [==============================] - 371s 4s/step - loss: 0.6048 - accuracy: 0.6750 - val_loss: 0.5897 - val_accuracy: 0.6860\n"
     ]
    }
   ],
   "source": [
    "# TODO: change epochs\n",
    "history = lstm.fit(\n",
    "    X_train_tk, y_train_le,\n",
    "    batch_size=1024,\n",
    "    epochs=8,\n",
    "    validation_split=0.1,\n",
    "    verbose=1,\n",
    "    )"
   ]
  },
  {
   "cell_type": "code",
   "execution_count": null,
   "id": "188bf5cb",
   "metadata": {},
   "outputs": [],
   "source": [
    "from keras.models import load_model\n",
    "lstm.save('lstm_model.h5')"
   ]
  },
  {
   "cell_type": "code",
   "execution_count": null,
   "id": "9e2b761a",
   "metadata": {},
   "outputs": [],
   "source": [
    "lstm = load_model(\"lstm_model.h5\")"
   ]
  },
  {
   "cell_type": "markdown",
   "id": "530af9a5",
   "metadata": {},
   "source": [
    "# Performance Evaluation Metrics"
   ]
  },
  {
   "cell_type": "code",
   "execution_count": 45,
   "id": "0cb7a18f",
   "metadata": {},
   "outputs": [
    {
     "name": "stdout",
     "output_type": "stream",
     "text": [
      "47/47 [==============================] - 20s 409ms/step - loss: 0.5930 - accuracy: 0.6769\n",
      "ACCURACY: 0.6769025921821594\n"
     ]
    }
   ],
   "source": [
    "score = lstm.evaluate(X_test_tk, y_test_le, batch_size=1024)\n",
    "print(\"ACCURACY:\", score[1])"
   ]
  },
  {
   "cell_type": "code",
   "execution_count": 46,
   "id": "8d264de1",
   "metadata": {},
   "outputs": [
    {
     "name": "stdout",
     "output_type": "stream",
     "text": [
      "1501/1501 [==============================] - 77s 51ms/step\n"
     ]
    }
   ],
   "source": [
    "y_pred = lstm.predict(X_test_tk)"
   ]
  },
  {
   "cell_type": "code",
   "execution_count": 50,
   "id": "ca6d2a21",
   "metadata": {},
   "outputs": [],
   "source": [
    "y_pred = np.where(y_pred>=0.5, 1, 0)"
   ]
  },
  {
   "cell_type": "code",
   "execution_count": 52,
   "id": "0c74f5fc",
   "metadata": {},
   "outputs": [],
   "source": [
    "from sklearn.metrics import classification_report"
   ]
  },
  {
   "cell_type": "code",
   "execution_count": 53,
   "id": "ad72d3f0",
   "metadata": {},
   "outputs": [
    {
     "name": "stdout",
     "output_type": "stream",
     "text": [
      "              precision    recall  f1-score   support\n",
      "\n",
      "           0       0.88      0.62      0.73     33746\n",
      "           1       0.47      0.80      0.60     14255\n",
      "\n",
      "    accuracy                           0.68     48001\n",
      "   macro avg       0.68      0.71      0.66     48001\n",
      "weighted avg       0.76      0.68      0.69     48001\n",
      "\n"
     ]
    }
   ],
   "source": [
    "print(classification_report(y_pred, y_test_le))"
   ]
  },
  {
   "cell_type": "code",
   "execution_count": null,
   "id": "c691e68d",
   "metadata": {},
   "outputs": [],
   "source": []
  }
 ],
 "metadata": {
  "kernelspec": {
   "display_name": "Python 3 (ipykernel)",
   "language": "python",
   "name": "python3"
  },
  "language_info": {
   "codemirror_mode": {
    "name": "ipython",
    "version": 3
   },
   "file_extension": ".py",
   "mimetype": "text/x-python",
   "name": "python",
   "nbconvert_exporter": "python",
   "pygments_lexer": "ipython3",
   "version": "3.11.4"
  }
 },
 "nbformat": 4,
 "nbformat_minor": 5
}
