{
 "cells": [
  {
   "cell_type": "code",
   "execution_count": 1,
   "id": "f0a36a19",
   "metadata": {},
   "outputs": [],
   "source": [
    "import warnings\n",
    "warnings.filterwarnings(\"ignore\")"
   ]
  },
  {
   "cell_type": "code",
   "execution_count": 2,
   "id": "1861c923",
   "metadata": {},
   "outputs": [],
   "source": [
    "import pandas as pd\n",
    "import numpy as np\n",
    "import matplotlib.pyplot as plt\n",
    "\n",
    "import re\n",
    "import nltk\n",
    "from nltk.corpus import stopwords\n",
    "from nltk.stem import SnowballStemmer\n",
    "from nltk.tokenize import RegexpTokenizer\n",
    "\n",
    "import gensim\n",
    "from gensim.models import Word2Vec\n",
    "from keras.preprocessing.text import Tokenizer\n",
    "#from keras.preprocessing.sequence import pad_sequences\n",
    "from keras.utils import pad_sequences\n",
    "\n",
    "from sklearn.model_selection import train_test_split\n",
    "from sklearn.feature_extraction.text import TfidfVectorizer\n",
    "from sklearn.preprocessing import LabelEncoder\n",
    "from sklearn.svm import LinearSVC\n",
    "from sklearn.metrics import confusion_matrix\n",
    "from sklearn.metrics import accuracy_score\n",
    "from sklearn.metrics import classification_report\n",
    "import seaborn as sns\n",
    "\n",
    "import tensorflow as tf\n",
    "from tensorflow.keras import Sequential\n",
    "from tensorflow.keras.layers import Bidirectional, GlobalMaxPool1D, Dense, LSTM, Conv1D, Embedding\n",
    "from tensorflow.keras.callbacks import ReduceLROnPlateau, EarlyStopping"
   ]
  },
  {
   "cell_type": "code",
   "execution_count": 3,
   "id": "d423047c",
   "metadata": {},
   "outputs": [],
   "source": [
    "# NOTE: change destination folder of dataset to suit.\n",
    "sentiment140_data = pd.read_csv(\"datasets/training.1600000.processed.noemoticon.csv\", \n",
    "                                encoding=\"ISO-8859-1\", header=None, names=[\"target\",\"id\",\"date\",\"flag\",\"user\",\"text\"])"
   ]
  },
  {
   "cell_type": "markdown",
   "id": "1673100f",
   "metadata": {},
   "source": [
    "# Data Exploration"
   ]
  },
  {
   "cell_type": "code",
   "execution_count": 4,
   "id": "2e3ca9f7",
   "metadata": {},
   "outputs": [
    {
     "data": {
      "text/html": [
       "<div>\n",
       "<style scoped>\n",
       "    .dataframe tbody tr th:only-of-type {\n",
       "        vertical-align: middle;\n",
       "    }\n",
       "\n",
       "    .dataframe tbody tr th {\n",
       "        vertical-align: top;\n",
       "    }\n",
       "\n",
       "    .dataframe thead th {\n",
       "        text-align: right;\n",
       "    }\n",
       "</style>\n",
       "<table border=\"1\" class=\"dataframe\">\n",
       "  <thead>\n",
       "    <tr style=\"text-align: right;\">\n",
       "      <th></th>\n",
       "      <th>target</th>\n",
       "      <th>id</th>\n",
       "      <th>date</th>\n",
       "      <th>flag</th>\n",
       "      <th>user</th>\n",
       "      <th>text</th>\n",
       "    </tr>\n",
       "  </thead>\n",
       "  <tbody>\n",
       "    <tr>\n",
       "      <th>0</th>\n",
       "      <td>0</td>\n",
       "      <td>1467810369</td>\n",
       "      <td>Mon Apr 06 22:19:45 PDT 2009</td>\n",
       "      <td>NO_QUERY</td>\n",
       "      <td>_TheSpecialOne_</td>\n",
       "      <td>@switchfoot http://twitpic.com/2y1zl - Awww, t...</td>\n",
       "    </tr>\n",
       "    <tr>\n",
       "      <th>1</th>\n",
       "      <td>0</td>\n",
       "      <td>1467810672</td>\n",
       "      <td>Mon Apr 06 22:19:49 PDT 2009</td>\n",
       "      <td>NO_QUERY</td>\n",
       "      <td>scotthamilton</td>\n",
       "      <td>is upset that he can't update his Facebook by ...</td>\n",
       "    </tr>\n",
       "    <tr>\n",
       "      <th>2</th>\n",
       "      <td>0</td>\n",
       "      <td>1467810917</td>\n",
       "      <td>Mon Apr 06 22:19:53 PDT 2009</td>\n",
       "      <td>NO_QUERY</td>\n",
       "      <td>mattycus</td>\n",
       "      <td>@Kenichan I dived many times for the ball. Man...</td>\n",
       "    </tr>\n",
       "    <tr>\n",
       "      <th>3</th>\n",
       "      <td>0</td>\n",
       "      <td>1467811184</td>\n",
       "      <td>Mon Apr 06 22:19:57 PDT 2009</td>\n",
       "      <td>NO_QUERY</td>\n",
       "      <td>ElleCTF</td>\n",
       "      <td>my whole body feels itchy and like its on fire</td>\n",
       "    </tr>\n",
       "    <tr>\n",
       "      <th>4</th>\n",
       "      <td>0</td>\n",
       "      <td>1467811193</td>\n",
       "      <td>Mon Apr 06 22:19:57 PDT 2009</td>\n",
       "      <td>NO_QUERY</td>\n",
       "      <td>Karoli</td>\n",
       "      <td>@nationwideclass no, it's not behaving at all....</td>\n",
       "    </tr>\n",
       "  </tbody>\n",
       "</table>\n",
       "</div>"
      ],
      "text/plain": [
       "   target          id                          date      flag  \\\n",
       "0       0  1467810369  Mon Apr 06 22:19:45 PDT 2009  NO_QUERY   \n",
       "1       0  1467810672  Mon Apr 06 22:19:49 PDT 2009  NO_QUERY   \n",
       "2       0  1467810917  Mon Apr 06 22:19:53 PDT 2009  NO_QUERY   \n",
       "3       0  1467811184  Mon Apr 06 22:19:57 PDT 2009  NO_QUERY   \n",
       "4       0  1467811193  Mon Apr 06 22:19:57 PDT 2009  NO_QUERY   \n",
       "\n",
       "              user                                               text  \n",
       "0  _TheSpecialOne_  @switchfoot http://twitpic.com/2y1zl - Awww, t...  \n",
       "1    scotthamilton  is upset that he can't update his Facebook by ...  \n",
       "2         mattycus  @Kenichan I dived many times for the ball. Man...  \n",
       "3          ElleCTF    my whole body feels itchy and like its on fire   \n",
       "4           Karoli  @nationwideclass no, it's not behaving at all....  "
      ]
     },
     "execution_count": 4,
     "metadata": {},
     "output_type": "execute_result"
    }
   ],
   "source": [
    "sentiment140_data.head()"
   ]
  },
  {
   "cell_type": "code",
   "execution_count": 5,
   "id": "808164ee",
   "metadata": {},
   "outputs": [
    {
     "data": {
      "text/html": [
       "<div>\n",
       "<style scoped>\n",
       "    .dataframe tbody tr th:only-of-type {\n",
       "        vertical-align: middle;\n",
       "    }\n",
       "\n",
       "    .dataframe tbody tr th {\n",
       "        vertical-align: top;\n",
       "    }\n",
       "\n",
       "    .dataframe thead th {\n",
       "        text-align: right;\n",
       "    }\n",
       "</style>\n",
       "<table border=\"1\" class=\"dataframe\">\n",
       "  <thead>\n",
       "    <tr style=\"text-align: right;\">\n",
       "      <th></th>\n",
       "      <th>target</th>\n",
       "      <th>id</th>\n",
       "      <th>date</th>\n",
       "      <th>flag</th>\n",
       "      <th>user</th>\n",
       "      <th>text</th>\n",
       "    </tr>\n",
       "  </thead>\n",
       "  <tbody>\n",
       "    <tr>\n",
       "      <th>1599995</th>\n",
       "      <td>4</td>\n",
       "      <td>2193601966</td>\n",
       "      <td>Tue Jun 16 08:40:49 PDT 2009</td>\n",
       "      <td>NO_QUERY</td>\n",
       "      <td>AmandaMarie1028</td>\n",
       "      <td>Just woke up. Having no school is the best fee...</td>\n",
       "    </tr>\n",
       "    <tr>\n",
       "      <th>1599996</th>\n",
       "      <td>4</td>\n",
       "      <td>2193601969</td>\n",
       "      <td>Tue Jun 16 08:40:49 PDT 2009</td>\n",
       "      <td>NO_QUERY</td>\n",
       "      <td>TheWDBoards</td>\n",
       "      <td>TheWDB.com - Very cool to hear old Walt interv...</td>\n",
       "    </tr>\n",
       "    <tr>\n",
       "      <th>1599997</th>\n",
       "      <td>4</td>\n",
       "      <td>2193601991</td>\n",
       "      <td>Tue Jun 16 08:40:49 PDT 2009</td>\n",
       "      <td>NO_QUERY</td>\n",
       "      <td>bpbabe</td>\n",
       "      <td>Are you ready for your MoJo Makeover? Ask me f...</td>\n",
       "    </tr>\n",
       "    <tr>\n",
       "      <th>1599998</th>\n",
       "      <td>4</td>\n",
       "      <td>2193602064</td>\n",
       "      <td>Tue Jun 16 08:40:49 PDT 2009</td>\n",
       "      <td>NO_QUERY</td>\n",
       "      <td>tinydiamondz</td>\n",
       "      <td>Happy 38th Birthday to my boo of alll time!!! ...</td>\n",
       "    </tr>\n",
       "    <tr>\n",
       "      <th>1599999</th>\n",
       "      <td>4</td>\n",
       "      <td>2193602129</td>\n",
       "      <td>Tue Jun 16 08:40:50 PDT 2009</td>\n",
       "      <td>NO_QUERY</td>\n",
       "      <td>RyanTrevMorris</td>\n",
       "      <td>happy #charitytuesday @theNSPCC @SparksCharity...</td>\n",
       "    </tr>\n",
       "  </tbody>\n",
       "</table>\n",
       "</div>"
      ],
      "text/plain": [
       "         target          id                          date      flag  \\\n",
       "1599995       4  2193601966  Tue Jun 16 08:40:49 PDT 2009  NO_QUERY   \n",
       "1599996       4  2193601969  Tue Jun 16 08:40:49 PDT 2009  NO_QUERY   \n",
       "1599997       4  2193601991  Tue Jun 16 08:40:49 PDT 2009  NO_QUERY   \n",
       "1599998       4  2193602064  Tue Jun 16 08:40:49 PDT 2009  NO_QUERY   \n",
       "1599999       4  2193602129  Tue Jun 16 08:40:50 PDT 2009  NO_QUERY   \n",
       "\n",
       "                    user                                               text  \n",
       "1599995  AmandaMarie1028  Just woke up. Having no school is the best fee...  \n",
       "1599996      TheWDBoards  TheWDB.com - Very cool to hear old Walt interv...  \n",
       "1599997           bpbabe  Are you ready for your MoJo Makeover? Ask me f...  \n",
       "1599998     tinydiamondz  Happy 38th Birthday to my boo of alll time!!! ...  \n",
       "1599999   RyanTrevMorris  happy #charitytuesday @theNSPCC @SparksCharity...  "
      ]
     },
     "execution_count": 5,
     "metadata": {},
     "output_type": "execute_result"
    }
   ],
   "source": [
    "sentiment140_data.tail()"
   ]
  },
  {
   "cell_type": "code",
   "execution_count": 6,
   "id": "b7de069f",
   "metadata": {},
   "outputs": [
    {
     "data": {
      "text/plain": [
       "Index(['target', 'id', 'date', 'flag', 'user', 'text'], dtype='object')"
      ]
     },
     "execution_count": 6,
     "metadata": {},
     "output_type": "execute_result"
    }
   ],
   "source": [
    "sentiment140_data.columns"
   ]
  },
  {
   "cell_type": "code",
   "execution_count": 7,
   "id": "d0d83c81",
   "metadata": {},
   "outputs": [
    {
     "data": {
      "text/plain": [
       "1600000"
      ]
     },
     "execution_count": 7,
     "metadata": {},
     "output_type": "execute_result"
    }
   ],
   "source": [
    "len(sentiment140_data)"
   ]
  },
  {
   "cell_type": "code",
   "execution_count": 8,
   "id": "4879ea12",
   "metadata": {},
   "outputs": [
    {
     "name": "stdout",
     "output_type": "stream",
     "text": [
      "<class 'pandas.core.frame.DataFrame'>\n",
      "RangeIndex: 1600000 entries, 0 to 1599999\n",
      "Data columns (total 6 columns):\n",
      " #   Column  Non-Null Count    Dtype \n",
      "---  ------  --------------    ----- \n",
      " 0   target  1600000 non-null  int64 \n",
      " 1   id      1600000 non-null  int64 \n",
      " 2   date    1600000 non-null  object\n",
      " 3   flag    1600000 non-null  object\n",
      " 4   user    1600000 non-null  object\n",
      " 5   text    1600000 non-null  object\n",
      "dtypes: int64(2), object(4)\n",
      "memory usage: 73.2+ MB\n"
     ]
    }
   ],
   "source": [
    "sentiment140_data.info()"
   ]
  },
  {
   "cell_type": "code",
   "execution_count": 9,
   "id": "491af793",
   "metadata": {},
   "outputs": [
    {
     "data": {
      "text/plain": [
       "0"
      ]
     },
     "execution_count": 9,
     "metadata": {},
     "output_type": "execute_result"
    }
   ],
   "source": [
    "np.sum(sentiment140_data.isnull().any(axis=1))"
   ]
  },
  {
   "cell_type": "code",
   "execution_count": 10,
   "id": "91693008",
   "metadata": {},
   "outputs": [
    {
     "data": {
      "image/png": "[encoded data removed]",
      "text/plain": [
       "<Figure size 640x480 with 1 Axes>"
      ]
     },
     "metadata": {},
     "output_type": "display_data"
    }
   ],
   "source": [
    "# Bar chart to check for data imbalance.\n",
    "sentiments = [\"Negative\", \"Positive\"]\n",
    "value_counts = sentiment140_data[\"target\"].value_counts()\n",
    "x_positions = [0, 1]\n",
    "plt.bar(x_positions, value_counts, tick_label=sentiments)\n",
    "plt.xlabel(\"Sentiment Values\")\n",
    "plt.ylabel(\"Frequency\")\n",
    "plt.title(\"Distribution of Sentiment Values\")\n",
    "plt.show()"
   ]
  },
  {
   "cell_type": "markdown",
   "id": "6059fa46",
   "metadata": {},
   "source": [
    "# Data Preprocessing"
   ]
  },
  {
   "cell_type": "markdown",
   "id": "aeb69436",
   "metadata": {},
   "source": [
    "## Sample Dataset"
   ]
  },
  {
   "cell_type": "code",
   "execution_count": 11,
   "id": "2f73bb0d",
   "metadata": {},
   "outputs": [],
   "source": [
    "data = sentiment140_data.sample(frac=0.1, random_state=42)"
   ]
  },
  {
   "cell_type": "code",
   "execution_count": 12,
   "id": "39cc097a",
   "metadata": {},
   "outputs": [
    {
     "data": {
      "text/plain": [
       "160000"
      ]
     },
     "execution_count": 12,
     "metadata": {},
     "output_type": "execute_result"
    }
   ],
   "source": [
    "len(data)"
   ]
  },
  {
   "cell_type": "markdown",
   "id": "67648a49",
   "metadata": {},
   "source": [
    "## Drop columns that arent needed"
   ]
  },
  {
   "cell_type": "code",
   "execution_count": 13,
   "id": "fe0f32be",
   "metadata": {},
   "outputs": [],
   "source": [
    "data = data.drop([\"id\",\"date\",\"flag\",\"user\"], axis=1)"
   ]
  },
  {
   "cell_type": "code",
   "execution_count": 14,
   "id": "dfb35660",
   "metadata": {},
   "outputs": [
    {
     "data": {
      "text/html": [
       "<div>\n",
       "<style scoped>\n",
       "    .dataframe tbody tr th:only-of-type {\n",
       "        vertical-align: middle;\n",
       "    }\n",
       "\n",
       "    .dataframe tbody tr th {\n",
       "        vertical-align: top;\n",
       "    }\n",
       "\n",
       "    .dataframe thead th {\n",
       "        text-align: right;\n",
       "    }\n",
       "</style>\n",
       "<table border=\"1\" class=\"dataframe\">\n",
       "  <thead>\n",
       "    <tr style=\"text-align: right;\">\n",
       "      <th></th>\n",
       "      <th>target</th>\n",
       "      <th>text</th>\n",
       "    </tr>\n",
       "  </thead>\n",
       "  <tbody>\n",
       "    <tr>\n",
       "      <th>541200</th>\n",
       "      <td>0</td>\n",
       "      <td>@chrishasboobs AHHH I HOPE YOUR OK!!!</td>\n",
       "    </tr>\n",
       "    <tr>\n",
       "      <th>750</th>\n",
       "      <td>0</td>\n",
       "      <td>@misstoriblack cool , i have no tweet apps  fo...</td>\n",
       "    </tr>\n",
       "    <tr>\n",
       "      <th>766711</th>\n",
       "      <td>0</td>\n",
       "      <td>@TiannaChaos i know  just family drama. its la...</td>\n",
       "    </tr>\n",
       "    <tr>\n",
       "      <th>285055</th>\n",
       "      <td>0</td>\n",
       "      <td>School email won't open  and I have geography ...</td>\n",
       "    </tr>\n",
       "    <tr>\n",
       "      <th>705995</th>\n",
       "      <td>0</td>\n",
       "      <td>upper airways problem</td>\n",
       "    </tr>\n",
       "  </tbody>\n",
       "</table>\n",
       "</div>"
      ],
      "text/plain": [
       "        target                                               text\n",
       "541200       0             @chrishasboobs AHHH I HOPE YOUR OK!!! \n",
       "750          0  @misstoriblack cool , i have no tweet apps  fo...\n",
       "766711       0  @TiannaChaos i know  just family drama. its la...\n",
       "285055       0  School email won't open  and I have geography ...\n",
       "705995       0                             upper airways problem "
      ]
     },
     "execution_count": 14,
     "metadata": {},
     "output_type": "execute_result"
    }
   ],
   "source": [
    "data.head()"
   ]
  },
  {
   "cell_type": "markdown",
   "id": "8659f11e",
   "metadata": {},
   "source": [
    "## Data Cleaning"
   ]
  },
  {
   "cell_type": "code",
   "execution_count": 15,
   "id": "89d669f2",
   "metadata": {},
   "outputs": [
    {
     "data": {
      "text/plain": [
       "True"
      ]
     },
     "execution_count": 15,
     "metadata": {},
     "output_type": "execute_result"
    }
   ],
   "source": [
    "nltk.download('stopwords', quiet=True)"
   ]
  },
  {
   "cell_type": "code",
   "execution_count": 16,
   "id": "e9f9d094",
   "metadata": {},
   "outputs": [],
   "source": [
    "stop_words = stopwords.words(\"english\")\n",
    "stemmer = SnowballStemmer(\"english\")\n",
    "TEXT_RE = \"@\\S+|https?:\\S+|http?:\\S|[^A-Za-z0-9]+\""
   ]
  },
  {
   "cell_type": "code",
   "execution_count": 17,
   "id": "20525c11",
   "metadata": {},
   "outputs": [],
   "source": [
    "def preprocess(text, stem=False):\n",
    "    text = re.sub(TEXT_RE, \" \", str(text).lower()).strip()\n",
    "    tokens = []\n",
    "    for token in text.split():\n",
    "        if token not in stop_words:\n",
    "            if stem:\n",
    "                tokens.append(stemmer.stem(token))\n",
    "            else:\n",
    "                tokens.append(token)\n",
    "    return \" \".join(tokens)"
   ]
  },
  {
   "cell_type": "code",
   "execution_count": 18,
   "id": "68aa9547",
   "metadata": {},
   "outputs": [
    {
     "data": {
      "text/html": [
       "<div>\n",
       "<style scoped>\n",
       "    .dataframe tbody tr th:only-of-type {\n",
       "        vertical-align: middle;\n",
       "    }\n",
       "\n",
       "    .dataframe tbody tr th {\n",
       "        vertical-align: top;\n",
       "    }\n",
       "\n",
       "    .dataframe thead th {\n",
       "        text-align: right;\n",
       "    }\n",
       "</style>\n",
       "<table border=\"1\" class=\"dataframe\">\n",
       "  <thead>\n",
       "    <tr style=\"text-align: right;\">\n",
       "      <th></th>\n",
       "      <th>target</th>\n",
       "      <th>text</th>\n",
       "    </tr>\n",
       "  </thead>\n",
       "  <tbody>\n",
       "    <tr>\n",
       "      <th>541200</th>\n",
       "      <td>0</td>\n",
       "      <td>ahhh hope ok</td>\n",
       "    </tr>\n",
       "    <tr>\n",
       "      <th>750</th>\n",
       "      <td>0</td>\n",
       "      <td>cool tweet apps razr 2</td>\n",
       "    </tr>\n",
       "    <tr>\n",
       "      <th>766711</th>\n",
       "      <td>0</td>\n",
       "      <td>know family drama lame hey next time u hang ki...</td>\n",
       "    </tr>\n",
       "    <tr>\n",
       "      <th>285055</th>\n",
       "      <td>0</td>\n",
       "      <td>school email open geography stuff revise stupi...</td>\n",
       "    </tr>\n",
       "    <tr>\n",
       "      <th>705995</th>\n",
       "      <td>0</td>\n",
       "      <td>upper airways problem</td>\n",
       "    </tr>\n",
       "  </tbody>\n",
       "</table>\n",
       "</div>"
      ],
      "text/plain": [
       "        target                                               text\n",
       "541200       0                                       ahhh hope ok\n",
       "750          0                             cool tweet apps razr 2\n",
       "766711       0  know family drama lame hey next time u hang ki...\n",
       "285055       0  school email open geography stuff revise stupi...\n",
       "705995       0                              upper airways problem"
      ]
     },
     "execution_count": 18,
     "metadata": {},
     "output_type": "execute_result"
    }
   ],
   "source": [
    "data[\"text\"] = data[\"text\"].apply(lambda x: preprocess(x))\n",
    "data.head()"
   ]
  },
  {
   "cell_type": "markdown",
   "id": "85233716",
   "metadata": {},
   "source": [
    "## Train Test Split"
   ]
  },
  {
   "cell_type": "code",
   "execution_count": 19,
   "id": "5dd5adc5",
   "metadata": {},
   "outputs": [],
   "source": [
    "X = data[\"text\"]\n",
    "y = data[\"target\"]\n",
    "\n",
    "TRAIN_SIZE = 0.7\n",
    "train, test = train_test_split(data, test_size=1-TRAIN_SIZE, random_state=42)\n",
    "\n",
    "X_train = train[\"text\"]\n",
    "X_test = test[\"text\"]\n",
    "y_train = train[\"target\"]\n",
    "y_test = test[\"target\"]"
   ]
  },
  {
   "cell_type": "code",
   "execution_count": 20,
   "id": "81b32ba8",
   "metadata": {},
   "outputs": [
    {
     "name": "stdout",
     "output_type": "stream",
     "text": [
      "(111999,)\n",
      "(48001,)\n",
      "(111999,)\n",
      "(48001,)\n"
     ]
    }
   ],
   "source": [
    "print(X_train.shape)\n",
    "print(X_test.shape)\n",
    "print(y_train.shape)\n",
    "print(y_test.shape)"
   ]
  },
  {
   "cell_type": "code",
   "execution_count": 21,
   "id": "9af04f21",
   "metadata": {},
   "outputs": [
    {
     "data": {
      "text/plain": [
       "541200                                         ahhh hope ok\n",
       "750                                  cool tweet apps razr 2\n",
       "766711    know family drama lame hey next time u hang ki...\n",
       "285055    school email open geography stuff revise stupi...\n",
       "705995                                upper airways problem\n",
       "Name: text, dtype: object"
      ]
     },
     "execution_count": 21,
     "metadata": {},
     "output_type": "execute_result"
    }
   ],
   "source": [
    "X.head()"
   ]
  },
  {
   "cell_type": "code",
   "execution_count": 22,
   "id": "099478ec",
   "metadata": {},
   "outputs": [
    {
     "data": {
      "text/plain": [
       "541200    0\n",
       "750       0\n",
       "766711    0\n",
       "285055    0\n",
       "705995    0\n",
       "Name: target, dtype: int64"
      ]
     },
     "execution_count": 22,
     "metadata": {},
     "output_type": "execute_result"
    }
   ],
   "source": [
    "y.head()"
   ]
  },
  {
   "cell_type": "markdown",
   "id": "a9ada3db",
   "metadata": {},
   "source": [
    "# Feature Extraction"
   ]
  },
  {
   "cell_type": "markdown",
   "id": "96a90cd1",
   "metadata": {},
   "source": [
    "## TF-IDF"
   ]
  },
  {
   "cell_type": "code",
   "execution_count": 23,
   "id": "b27bdafc",
   "metadata": {},
   "outputs": [],
   "source": [
    "NGRAM_RANGE = (1,2)\n",
    "#MAX_FEATURES = 50000\n",
    "tfidf = TfidfVectorizer(ngram_range=NGRAM_RANGE)"
   ]
  },
  {
   "cell_type": "code",
   "execution_count": 24,
   "id": "86c252b8",
   "metadata": {},
   "outputs": [
    {
     "data": {
      "text/html": [
       "<style>#sk-container-id-1 {color: black;}#sk-container-id-1 pre{padding: 0;}#sk-container-id-1 div.sk-toggleable {background-color: white;}#sk-container-id-1 label.sk-toggleable__label {cursor: pointer;display: block;width: 100%;margin-bottom: 0;padding: 0.3em;box-sizing: border-box;text-align: center;}#sk-container-id-1 label.sk-toggleable__label-arrow:before {content: \"▸\";float: left;margin-right: 0.25em;color: #696969;}#sk-container-id-1 label.sk-toggleable__label-arrow:hover:before {color: black;}#sk-container-id-1 div.sk-estimator:hover label.sk-toggleable__label-arrow:before {color: black;}#sk-container-id-1 div.sk-toggleable__content {max-height: 0;max-width: 0;overflow: hidden;text-align: left;background-color: #f0f8ff;}#sk-container-id-1 div.sk-toggleable__content pre {margin: 0.2em;color: black;border-radius: 0.25em;background-color: #f0f8ff;}#sk-container-id-1 input.sk-toggleable__control:checked~div.sk-toggleable__content {max-height: 200px;max-width: 100%;overflow: auto;}#sk-container-id-1 input.sk-toggleable__control:checked~label.sk-toggleable__label-arrow:before {content: \"▾\";}#sk-container-id-1 div.sk-estimator input.sk-toggleable__control:checked~label.sk-toggleable__label {background-color: #d4ebff;}#sk-container-id-1 div.sk-label input.sk-toggleable__control:checked~label.sk-toggleable__label {background-color: #d4ebff;}#sk-container-id-1 input.sk-hidden--visually {border: 0;clip: rect(1px 1px 1px 1px);clip: rect(1px, 1px, 1px, 1px);height: 1px;margin: -1px;overflow: hidden;padding: 0;position: absolute;width: 1px;}#sk-container-id-1 div.sk-estimator {font-family: monospace;background-color: #f0f8ff;border: 1px dotted black;border-radius: 0.25em;box-sizing: border-box;margin-bottom: 0.5em;}#sk-container-id-1 div.sk-estimator:hover {background-color: #d4ebff;}#sk-container-id-1 div.sk-parallel-item::after {content: \"\";width: 100%;border-bottom: 1px solid gray;flex-grow: 1;}#sk-container-id-1 div.sk-label:hover label.sk-toggleable__label {background-color: #d4ebff;}#sk-container-id-1 div.sk-serial::before {content: \"\";position: absolute;border-left: 1px solid gray;box-sizing: border-box;top: 0;bottom: 0;left: 50%;z-index: 0;}#sk-container-id-1 div.sk-serial {display: flex;flex-direction: column;align-items: center;background-color: white;padding-right: 0.2em;padding-left: 0.2em;position: relative;}#sk-container-id-1 div.sk-item {position: relative;z-index: 1;}#sk-container-id-1 div.sk-parallel {display: flex;align-items: stretch;justify-content: center;background-color: white;position: relative;}#sk-container-id-1 div.sk-item::before, #sk-container-id-1 div.sk-parallel-item::before {content: \"\";position: absolute;border-left: 1px solid gray;box-sizing: border-box;top: 0;bottom: 0;left: 50%;z-index: -1;}#sk-container-id-1 div.sk-parallel-item {display: flex;flex-direction: column;z-index: 1;position: relative;background-color: white;}#sk-container-id-1 div.sk-parallel-item:first-child::after {align-self: flex-end;width: 50%;}#sk-container-id-1 div.sk-parallel-item:last-child::after {align-self: flex-start;width: 50%;}#sk-container-id-1 div.sk-parallel-item:only-child::after {width: 0;}#sk-container-id-1 div.sk-dashed-wrapped {border: 1px dashed gray;margin: 0 0.4em 0.5em 0.4em;box-sizing: border-box;padding-bottom: 0.4em;background-color: white;}#sk-container-id-1 div.sk-label label {font-family: monospace;font-weight: bold;display: inline-block;line-height: 1.2em;}#sk-container-id-1 div.sk-label-container {text-align: center;}#sk-container-id-1 div.sk-container {/* jupyter's `normalize.less` sets `[hidden] { display: none; }` but bootstrap.min.css set `[hidden] { display: none !important; }` so we also need the `!important` here to be able to override the default hidden behavior on the sphinx rendered scikit-learn.org. See: https://github.com/scikit-learn/scikit-learn/issues/21755 */display: inline-block !important;position: relative;}#sk-container-id-1 div.sk-text-repr-fallback {display: none;}</style><div id=\"sk-container-id-1\" class=\"sk-top-container\"><div class=\"sk-text-repr-fallback\"><pre>TfidfVectorizer(ngram_range=(1, 2))</pre><b>In a Jupyter environment, please rerun this cell to show the HTML representation or trust the notebook. <br />On GitHub, the HTML representation is unable to render, please try loading this page with nbviewer.org.</b></div><div class=\"sk-container\" hidden><div class=\"sk-item\"><div class=\"sk-estimator sk-toggleable\"><input class=\"sk-toggleable__control sk-hidden--visually\" id=\"sk-estimator-id-1\" type=\"checkbox\" checked><label for=\"sk-estimator-id-1\" class=\"sk-toggleable__label sk-toggleable__label-arrow\">TfidfVectorizer</label><div class=\"sk-toggleable__content\"><pre>TfidfVectorizer(ngram_range=(1, 2))</pre></div></div></div></div></div>"
      ],
      "text/plain": [
       "TfidfVectorizer(ngram_range=(1, 2))"
      ]
     },
     "execution_count": 24,
     "metadata": {},
     "output_type": "execute_result"
    }
   ],
   "source": [
    "tfidf.fit(X_train)"
   ]
  },
  {
   "cell_type": "code",
   "execution_count": 25,
   "id": "8b13733e",
   "metadata": {
    "scrolled": true
   },
   "outputs": [],
   "source": [
    "X_train_tfidf = tfidf.transform(X_train)\n",
    "X_test_tfidf = tfidf.transform(X_test)"
   ]
  },
  {
   "cell_type": "markdown",
   "id": "60f33c84",
   "metadata": {},
   "source": [
    "## Word Embedding"
   ]
  },
  {
   "cell_type": "markdown",
   "id": "aef5de5f",
   "metadata": {},
   "source": [
    "### Word Tokenization for Embedding"
   ]
  },
  {
   "cell_type": "code",
   "execution_count": 26,
   "id": "ca88cfef",
   "metadata": {},
   "outputs": [
    {
     "data": {
      "text/plain": [
       "229771                                                 [bad]\n",
       "1193312    [played, cute, nephew, today, gonna, go, dinne...\n",
       "1468679    [could, sunny, everyday, rain, cold, weather, ...\n",
       "1195724                         [n, dont, worry, back, soon]\n",
       "794333                         [nooooo, leave, 5, 30, today]\n",
       "Name: text, dtype: object"
      ]
     },
     "execution_count": 26,
     "metadata": {},
     "output_type": "execute_result"
    }
   ],
   "source": [
    "regexp = RegexpTokenizer(r'\\w+')\n",
    "X_train_tk = X_train.apply(regexp.tokenize)\n",
    "X_train_tk.head()"
   ]
  },
  {
   "cell_type": "code",
   "execution_count": 27,
   "id": "e0b2573f",
   "metadata": {},
   "outputs": [
    {
     "data": {
      "text/plain": [
       "111999"
      ]
     },
     "execution_count": 27,
     "metadata": {},
     "output_type": "execute_result"
    }
   ],
   "source": [
    "len(X_train_tk)"
   ]
  },
  {
   "cell_type": "markdown",
   "id": "72ba6f94",
   "metadata": {},
   "source": [
    "### Word2Vec"
   ]
  },
  {
   "cell_type": "code",
   "execution_count": 28,
   "id": "4ac3752c",
   "metadata": {},
   "outputs": [],
   "source": [
    "VECTOR_SIZE = 300\n",
    "EPOCHS = 16\n",
    "word2Vec = gensim.models.Word2Vec(X_train_tk, min_count=5, vector_size=VECTOR_SIZE, window=5, workers=8, sg=1, epochs=EPOCHS, seed=42)"
   ]
  },
  {
   "cell_type": "code",
   "execution_count": 29,
   "id": "889e49ba",
   "metadata": {},
   "outputs": [
    {
     "data": {
      "text/plain": [
       "[('cloudy', 0.5242199301719666),\n",
       " ('humid', 0.5185630321502686),\n",
       " ('rainy', 0.5179226398468018),\n",
       " ('muggy', 0.5162774920463562),\n",
       " ('gloomy', 0.5143342614173889)]"
      ]
     },
     "execution_count": 29,
     "metadata": {},
     "output_type": "execute_result"
    }
   ],
   "source": [
    "word2Vec.wv.most_similar('weather', topn=5)"
   ]
  },
  {
   "cell_type": "code",
   "execution_count": 30,
   "id": "4cf4a41e",
   "metadata": {},
   "outputs": [],
   "source": [
    "word2Vec.save(\"word2Vec.model\")"
   ]
  },
  {
   "cell_type": "code",
   "execution_count": 31,
   "id": "8d57f725",
   "metadata": {},
   "outputs": [],
   "source": [
    "word2Vec = Word2Vec.load(\"word2Vec.model\")"
   ]
  },
  {
   "cell_type": "markdown",
   "id": "1986a604",
   "metadata": {},
   "source": [
    "### Label Encoding"
   ]
  },
  {
   "cell_type": "code",
   "execution_count": 32,
   "id": "19346f6b",
   "metadata": {
    "scrolled": true
   },
   "outputs": [],
   "source": [
    "le = LabelEncoder()\n",
    "y_train = le.fit_transform(y_train.tolist())\n",
    "y_test = le.transform(y_test.tolist())\n",
    "\n",
    "y_train = y_train.reshape(-1,1)\n",
    "y_test = y_test.reshape(-1,1)"
   ]
  },
  {
   "cell_type": "markdown",
   "id": "4c9d7cd8",
   "metadata": {},
   "source": [
    "# Machine Learning Models"
   ]
  },
  {
   "cell_type": "markdown",
   "id": "9de8bffc",
   "metadata": {},
   "source": [
    "## Support Vector Machine"
   ]
  },
  {
   "cell_type": "code",
   "execution_count": null,
   "id": "ee0005c2",
   "metadata": {},
   "outputs": [],
   "source": [
    "#def grid_search(model, parameters, X_train, Y_train):\n",
    "#    #Doing a grid\n",
    "#    grid = GridSearchCV(estimator=model,\n",
    "#                        param_grid = parameters,\n",
    "#                        cv = 2, verbose=2, scoring='roc_auc')\n",
    "#    #Fitting the grid \n",
    "#    grid.fit(X_train,Y_train)\n",
    "#    print()\n",
    "#    print()\n",
    "#    \n",
    "#    # Best model found using grid search\n",
    "#    optimal_model = grid.best_estimator_\n",
    "#    print('Best parameters are: ')\n",
    "#    print( grid.best_params_)\n",
    "#    \n",
    "#    return optimal_model"
   ]
  },
  {
   "cell_type": "code",
   "execution_count": null,
   "id": "ed617a46",
   "metadata": {},
   "outputs": [],
   "source": [
    "#%%time\n",
    "## Tuning the hyperparameters\n",
    "#parameters ={\n",
    "#    \"C\":[0.1,1,10],\n",
    "#    \"kernel\":['linear', 'rbf', 'sigmoid'],\n",
    "#    \"gamma\":['scale', 'auto']\n",
    "#}\n",
    "#\n",
    "#\n",
    "#\n",
    "#svm_optimal = grid_search(svm.SVC(probability=True), parameters,X_train, Y_train)"
   ]
  },
  {
   "cell_type": "code",
   "execution_count": 35,
   "id": "db2826b5",
   "metadata": {},
   "outputs": [
    {
     "data": {
      "text/html": [
       "<style>#sk-container-id-2 {color: black;}#sk-container-id-2 pre{padding: 0;}#sk-container-id-2 div.sk-toggleable {background-color: white;}#sk-container-id-2 label.sk-toggleable__label {cursor: pointer;display: block;width: 100%;margin-bottom: 0;padding: 0.3em;box-sizing: border-box;text-align: center;}#sk-container-id-2 label.sk-toggleable__label-arrow:before {content: \"▸\";float: left;margin-right: 0.25em;color: #696969;}#sk-container-id-2 label.sk-toggleable__label-arrow:hover:before {color: black;}#sk-container-id-2 div.sk-estimator:hover label.sk-toggleable__label-arrow:before {color: black;}#sk-container-id-2 div.sk-toggleable__content {max-height: 0;max-width: 0;overflow: hidden;text-align: left;background-color: #f0f8ff;}#sk-container-id-2 div.sk-toggleable__content pre {margin: 0.2em;color: black;border-radius: 0.25em;background-color: #f0f8ff;}#sk-container-id-2 input.sk-toggleable__control:checked~div.sk-toggleable__content {max-height: 200px;max-width: 100%;overflow: auto;}#sk-container-id-2 input.sk-toggleable__control:checked~label.sk-toggleable__label-arrow:before {content: \"▾\";}#sk-container-id-2 div.sk-estimator input.sk-toggleable__control:checked~label.sk-toggleable__label {background-color: #d4ebff;}#sk-container-id-2 div.sk-label input.sk-toggleable__control:checked~label.sk-toggleable__label {background-color: #d4ebff;}#sk-container-id-2 input.sk-hidden--visually {border: 0;clip: rect(1px 1px 1px 1px);clip: rect(1px, 1px, 1px, 1px);height: 1px;margin: -1px;overflow: hidden;padding: 0;position: absolute;width: 1px;}#sk-container-id-2 div.sk-estimator {font-family: monospace;background-color: #f0f8ff;border: 1px dotted black;border-radius: 0.25em;box-sizing: border-box;margin-bottom: 0.5em;}#sk-container-id-2 div.sk-estimator:hover {background-color: #d4ebff;}#sk-container-id-2 div.sk-parallel-item::after {content: \"\";width: 100%;border-bottom: 1px solid gray;flex-grow: 1;}#sk-container-id-2 div.sk-label:hover label.sk-toggleable__label {background-color: #d4ebff;}#sk-container-id-2 div.sk-serial::before {content: \"\";position: absolute;border-left: 1px solid gray;box-sizing: border-box;top: 0;bottom: 0;left: 50%;z-index: 0;}#sk-container-id-2 div.sk-serial {display: flex;flex-direction: column;align-items: center;background-color: white;padding-right: 0.2em;padding-left: 0.2em;position: relative;}#sk-container-id-2 div.sk-item {position: relative;z-index: 1;}#sk-container-id-2 div.sk-parallel {display: flex;align-items: stretch;justify-content: center;background-color: white;position: relative;}#sk-container-id-2 div.sk-item::before, #sk-container-id-2 div.sk-parallel-item::before {content: \"\";position: absolute;border-left: 1px solid gray;box-sizing: border-box;top: 0;bottom: 0;left: 50%;z-index: -1;}#sk-container-id-2 div.sk-parallel-item {display: flex;flex-direction: column;z-index: 1;position: relative;background-color: white;}#sk-container-id-2 div.sk-parallel-item:first-child::after {align-self: flex-end;width: 50%;}#sk-container-id-2 div.sk-parallel-item:last-child::after {align-self: flex-start;width: 50%;}#sk-container-id-2 div.sk-parallel-item:only-child::after {width: 0;}#sk-container-id-2 div.sk-dashed-wrapped {border: 1px dashed gray;margin: 0 0.4em 0.5em 0.4em;box-sizing: border-box;padding-bottom: 0.4em;background-color: white;}#sk-container-id-2 div.sk-label label {font-family: monospace;font-weight: bold;display: inline-block;line-height: 1.2em;}#sk-container-id-2 div.sk-label-container {text-align: center;}#sk-container-id-2 div.sk-container {/* jupyter's `normalize.less` sets `[hidden] { display: none; }` but bootstrap.min.css set `[hidden] { display: none !important; }` so we also need the `!important` here to be able to override the default hidden behavior on the sphinx rendered scikit-learn.org. See: https://github.com/scikit-learn/scikit-learn/issues/21755 */display: inline-block !important;position: relative;}#sk-container-id-2 div.sk-text-repr-fallback {display: none;}</style><div id=\"sk-container-id-2\" class=\"sk-top-container\"><div class=\"sk-text-repr-fallback\"><pre>LinearSVC()</pre><b>In a Jupyter environment, please rerun this cell to show the HTML representation or trust the notebook. <br />On GitHub, the HTML representation is unable to render, please try loading this page with nbviewer.org.</b></div><div class=\"sk-container\" hidden><div class=\"sk-item\"><div class=\"sk-estimator sk-toggleable\"><input class=\"sk-toggleable__control sk-hidden--visually\" id=\"sk-estimator-id-2\" type=\"checkbox\" checked><label for=\"sk-estimator-id-2\" class=\"sk-toggleable__label sk-toggleable__label-arrow\">LinearSVC</label><div class=\"sk-toggleable__content\"><pre>LinearSVC()</pre></div></div></div></div></div>"
      ],
      "text/plain": [
       "LinearSVC()"
      ]
     },
     "execution_count": 35,
     "metadata": {},
     "output_type": "execute_result"
    }
   ],
   "source": [
    "svm_model = LinearSVC()\n",
    "svm_model.fit(X_train_tfidf, y_train.ravel())"
   ]
  },
  {
   "cell_type": "markdown",
   "id": "7e66ba52",
   "metadata": {},
   "source": [
    "## Long Short-Term Memory Network"
   ]
  },
  {
   "cell_type": "markdown",
   "id": "e5ab89dd",
   "metadata": {},
   "source": [
    "### Tokenization and Padding"
   ]
  },
  {
   "cell_type": "code",
   "execution_count": 36,
   "id": "ffd6d281",
   "metadata": {},
   "outputs": [
    {
     "name": "stdout",
     "output_type": "stream",
     "text": [
      "Vocabulary Size : 77822\n"
     ]
    }
   ],
   "source": [
    "tokenizer = Tokenizer()\n",
    "tokenizer.fit_on_texts(X)\n",
    "\n",
    "sequences = tokenizer.texts_to_sequences(X)\n",
    "vocab_size = len(tokenizer.word_index) + 1\n",
    "print(\"Vocabulary Size :\", vocab_size)"
   ]
  },
  {
   "cell_type": "code",
   "execution_count": 37,
   "id": "24d32969",
   "metadata": {},
   "outputs": [
    {
     "name": "stdout",
     "output_type": "stream",
     "text": [
      "(111999, 100)\n",
      "(48001, 100)\n"
     ]
    }
   ],
   "source": [
    "MAX_SEQUENCE_LENGTH = 100\n",
    "X_train_tk = pad_sequences(tokenizer.texts_to_sequences(X_train), maxlen=MAX_SEQUENCE_LENGTH)\n",
    "X_test_tk = pad_sequences(tokenizer.texts_to_sequences(X_test), maxlen=MAX_SEQUENCE_LENGTH)\n",
    "\n",
    "print(X_train_tk.shape)\n",
    "print(X_test_tk.shape)"
   ]
  },
  {
   "cell_type": "markdown",
   "id": "17cd8ff3",
   "metadata": {},
   "source": [
    "### Model"
   ]
  },
  {
   "cell_type": "code",
   "execution_count": 54,
   "id": "8e9d8b99",
   "metadata": {},
   "outputs": [
    {
     "name": "stdout",
     "output_type": "stream",
     "text": [
      "(77822, 300)\n"
     ]
    }
   ],
   "source": [
    "embedding_matrix = np.zeros((vocab_size, VECTOR_SIZE))\n",
    "for word, i in tokenizer.word_index.items():\n",
    "    if word in word2Vec.wv:\n",
    "        embedding_matrix[i] = word2Vec.wv[word]\n",
    "print(embedding_matrix.shape)"
   ]
  },
  {
   "cell_type": "code",
   "execution_count": null,
   "id": "48a0c3d4",
   "metadata": {},
   "outputs": [],
   "source": [
    "def LSTM_Model(embedding_layer):\n",
    "    model = Sequential(name=\"Full_LSTM_Model\")\n",
    "    model.add(embedding_layer)\n",
    "    model.add(Bidirectional(LSTM(100, dropout=0.3, return_sequences=True)))\n",
    "    model.add(Bidirectional(LSTM(100, dropout=0.3, return_sequences=True)))\n",
    "    model.add(Conv1D(100,5,activation='relu'))\n",
    "    model.add(GlobalMaxPool1D())\n",
    "    model.add(Dense(16,activation='relu'))\n",
    "    model.add(Dense(1,activation='sigmoid'))\n",
    "\n",
    "    print(model.summary())\n",
    "\n",
    "    callbacks = [ReduceLROnPlateau(monitor='val_loss', patience=5, cooldown=0),\n",
    "             EarlyStopping(monitor='val_accuracy', min_delta=1e-4, patience=5)]\n",
    "\n",
    "    model.compile(loss='binary_crossentropy', optimizer='adam', metrics=['accuracy'])\n",
    "    \n",
    "    history = model.fit(\n",
    "        X_train_tk, y_train,\n",
    "        batch_size=1024,\n",
    "        epochs=8,\n",
    "        validation_split=0.1,\n",
    "        callbacks=callbacks,\n",
    "        verbose=1,\n",
    "    )\n",
    "    \n",
    "    return (model, history)"
   ]
  },
  {
   "cell_type": "raw",
   "id": "218e0dd3",
   "metadata": {},
   "source": [
    "Model: \"Full_LSTM_Model\"\n",
    "_________________________________________________________________\n",
    " Layer (type)                Output Shape              Param #   \n",
    "=================================================================\n",
    " embedding (Embedding)       (None, 100, 300)          23346600  \n",
    "                                                                 \n",
    " bidirectional (Bidirectiona  (None, 100, 200)         320800    \n",
    " l)                                                              \n",
    "                                                                 \n",
    " bidirectional_1 (Bidirectio  (None, 100, 200)         240800    \n",
    " nal)                                                            \n",
    "                                                                 \n",
    " conv1d (Conv1D)             (None, 96, 100)           100100    \n",
    "                                                                 \n",
    " global_max_pooling1d (Globa  (None, 100)              0         \n",
    " lMaxPooling1D)                                                  \n",
    "                                                                 \n",
    " dense (Dense)               (None, 16)                1616      \n",
    "                                                                 \n",
    " dense_1 (Dense)             (None, 1)                 17        \n",
    "                                                                 \n",
    "=================================================================\n",
    "Total params: 24,009,933\n",
    "Trainable params: 663,333\n",
    "Non-trainable params: 23,346,600\n",
    "_________________________________________________________________\n",
    "None\n",
    "Epoch 1/8\n",
    "99/99 [==============================] - 378s 4s/step - loss: 0.5514 - accuracy: 0.7187 - val_loss: 0.5074 - val_accuracy: 0.7479 - lr: 0.0010\n",
    "Epoch 2/8\n",
    "99/99 [==============================] - 414s 4s/step - loss: 0.5107 - accuracy: 0.7459 - val_loss: 0.4972 - val_accuracy: 0.7540 - lr: 0.0010\n",
    "Epoch 3/8\n",
    "99/99 [==============================] - 459s 5s/step - loss: 0.5026 - accuracy: 0.7499 - val_loss: 0.4950 - val_accuracy: 0.7561 - lr: 0.0010\n",
    "Epoch 4/8\n",
    "99/99 [==============================] - 490s 5s/step - loss: 0.4936 - accuracy: 0.7570 - val_loss: 0.4927 - val_accuracy: 0.7563 - lr: 0.0010\n",
    "Epoch 5/8\n",
    "99/99 [==============================] - 505s 5s/step - loss: 0.4886 - accuracy: 0.7598 - val_loss: 0.4877 - val_accuracy: 0.7610 - lr: 0.0010\n",
    "Epoch 6/8\n",
    "99/99 [==============================] - 531s 5s/step - loss: 0.4819 - accuracy: 0.7646 - val_loss: 0.4876 - val_accuracy: 0.7606 - lr: 0.0010\n",
    "Epoch 7/8\n",
    "99/99 [==============================] - 560s 6s/step - loss: 0.4754 - accuracy: 0.7690 - val_loss: 0.4816 - val_accuracy: 0.7653 - lr: 0.0010\n",
    "Epoch 8/8\n",
    "99/99 [==============================] - 596s 6s/step - loss: 0.4715 - accuracy: 0.7704 - val_loss: 0.4801 - val_accuracy: 0.7673 - lr: 0.0010\n",
    "\n"
   ]
  },
  {
   "cell_type": "code",
   "execution_count": null,
   "id": "9ca1f84e",
   "metadata": {},
   "outputs": [],
   "source": [
    "embedding_layer = Embedding(input_dim = vocab_size,\n",
    "                            output_dim = VECTOR_SIZE,\n",
    "                            weights=[embedding_matrix],\n",
    "                            input_length=MAX_SEQUENCE_LENGTH,\n",
    "                            trainable=False)\n",
    "\n",
    "lstm_model, lstm_history = LSTM_Model(embedding_layer)"
   ]
  },
  {
   "cell_type": "code",
   "execution_count": null,
   "id": "1b6cdb18",
   "metadata": {},
   "outputs": [],
   "source": [
    "lstm_model.save(\"LSTM_model.keras\")"
   ]
  },
  {
   "cell_type": "code",
   "execution_count": 38,
   "id": "7526d079",
   "metadata": {},
   "outputs": [],
   "source": [
    "lstm_model = tf.keras.models.load_model(\"LSTM_model.keras\")"
   ]
  },
  {
   "cell_type": "markdown",
   "id": "530af9a5",
   "metadata": {},
   "source": [
    "# Performance Evaluation Metrics"
   ]
  },
  {
   "cell_type": "code",
   "execution_count": 39,
   "id": "2d1ca1e3",
   "metadata": {},
   "outputs": [],
   "source": [
    "y_pred_svm = svm_model.predict(X_test_tfidf)"
   ]
  },
  {
   "cell_type": "code",
   "execution_count": 40,
   "id": "400effb9",
   "metadata": {},
   "outputs": [
    {
     "name": "stdout",
     "output_type": "stream",
     "text": [
      "1501/1501 [==============================] - 686s 454ms/step\n"
     ]
    }
   ],
   "source": [
    "y_pred_lstm = lstm_model.predict(X_test_tk)\n",
    "y_pred_lstm = np.where(y_pred_lstm>=0.5, 1, 0)"
   ]
  },
  {
   "cell_type": "markdown",
   "id": "048a9ec6",
   "metadata": {},
   "source": [
    "## Accuracy"
   ]
  },
  {
   "cell_type": "code",
   "execution_count": 41,
   "id": "aed82d84",
   "metadata": {},
   "outputs": [
    {
     "name": "stdout",
     "output_type": "stream",
     "text": [
      "SVM ACCURACY: 0.7652965563217433\n"
     ]
    }
   ],
   "source": [
    "accuracy_svm = accuracy_score(y_test, y_pred_svm)\n",
    "print(\"SVM ACCURACY:\",accuracy_svm)"
   ]
  },
  {
   "cell_type": "code",
   "execution_count": 42,
   "id": "0cb7a18f",
   "metadata": {},
   "outputs": [
    {
     "name": "stdout",
     "output_type": "stream",
     "text": [
      "47/47 [==============================] - 435s 9s/step - loss: 0.4797 - accuracy: 0.7668\n",
      "LSTM ACCURACY: 0.7668381929397583\n",
      "LSTM LOSS: 0.4797443449497223\n"
     ]
    }
   ],
   "source": [
    "score_lstm = lstm_model.evaluate(X_test_tk, y_test, batch_size=1024)\n",
    "print(\"LSTM ACCURACY:\", score_lstm[1])\n",
    "print(\"LSTM LOSS:\", score_lstm[0])"
   ]
  },
  {
   "cell_type": "markdown",
   "id": "5f35d205",
   "metadata": {},
   "source": [
    "## Classification Scores"
   ]
  },
  {
   "cell_type": "code",
   "execution_count": 43,
   "id": "25aa8296",
   "metadata": {},
   "outputs": [
    {
     "name": "stdout",
     "output_type": "stream",
     "text": [
      "----- SVM CLASSIFICATION REPORT -----\n",
      "               precision    recall  f1-score   support\n",
      "\n",
      "    Negative       0.76      0.77      0.76     23853\n",
      "    Positive       0.77      0.76      0.77     24148\n",
      "\n",
      "    accuracy                           0.77     48001\n",
      "   macro avg       0.77      0.77      0.77     48001\n",
      "weighted avg       0.77      0.77      0.77     48001\n",
      "\n"
     ]
    }
   ],
   "source": [
    "print(\"----- SVM CLASSIFICATION REPORT -----\\n\", \n",
    "      classification_report(y_test, y_pred_svm, target_names=['Negative','Positive']))"
   ]
  },
  {
   "cell_type": "code",
   "execution_count": 44,
   "id": "0c74f5fc",
   "metadata": {},
   "outputs": [
    {
     "name": "stdout",
     "output_type": "stream",
     "text": [
      "----- LSTM CLASSIFICATION REPORT -----\n",
      "               precision    recall  f1-score   support\n",
      "\n",
      "    Negative       0.76      0.77      0.77     23853\n",
      "    Positive       0.77      0.76      0.77     24148\n",
      "\n",
      "    accuracy                           0.77     48001\n",
      "   macro avg       0.77      0.77      0.77     48001\n",
      "weighted avg       0.77      0.77      0.77     48001\n",
      "\n"
     ]
    }
   ],
   "source": [
    "print(\"----- LSTM CLASSIFICATION REPORT -----\\n\", \n",
    "      classification_report(y_test, y_pred_lstm, target_names=['Negative','Positive']))"
   ]
  },
  {
   "cell_type": "markdown",
   "id": "9139f906",
   "metadata": {},
   "source": [
    "## Confusion Matrix"
   ]
  },
  {
   "cell_type": "code",
   "execution_count": 45,
   "id": "1b3e87b7",
   "metadata": {},
   "outputs": [
    {
     "data": {
      "text/plain": [
       "[Text(0, 0.5, 'Negative'), Text(0, 1.5, 'Positive')]"
      ]
     },
     "execution_count": 45,
     "metadata": {},
     "output_type": "execute_result"
    },
    {
     "data": {
      "image/png": "[encoded data removed]",
      "text/plain": [
       "<Figure size 1000x800 with 2 Axes>"
      ]
     },
     "metadata": {},
     "output_type": "display_data"
    }
   ],
   "source": [
    "cm_svm = confusion_matrix(y_test, y_pred_svm)\n",
    "cm_svm = cm_svm.astype('float') / cm_svm.sum(axis=1)[:, np.newaxis]\n",
    "plt.figure(figsize=(10,8))\n",
    "heatmap = sns.heatmap(cm_svm, annot=True, fmt=\".2%\", cmap='Blues',\n",
    "            xticklabels = ['Negative','Positive'], \n",
    "            yticklabels = ['Negative','Positive'],\n",
    "            annot_kws={\"size\": 16},\n",
    "            linecolor='black', linewidth=2 )\n",
    "plt.title(\"TF-IDF & SVM Confusion Matrix\", fontsize=20)\n",
    "plt.xlabel(\"Predicted\", fontsize=17)\n",
    "plt.ylabel(\"Actual\", fontsize=17)\n",
    "\n",
    "heatmap.set_xticklabels(heatmap.get_xticklabels(), size=14)\n",
    "heatmap.set_yticklabels(heatmap.get_xticklabels(), size=14)"
   ]
  },
  {
   "cell_type": "code",
   "execution_count": 46,
   "id": "a5347220",
   "metadata": {},
   "outputs": [
    {
     "data": {
      "text/plain": [
       "[Text(0, 0.5, 'Negative'), Text(0, 1.5, 'Positive')]"
      ]
     },
     "execution_count": 46,
     "metadata": {},
     "output_type": "execute_result"
    },
    {
     "data": {
      "image/png": "[encoded data removed]",
      "text/plain": [
       "<Figure size 1000x800 with 2 Axes>"
      ]
     },
     "metadata": {},
     "output_type": "display_data"
    }
   ],
   "source": [
    "cm_lstm = confusion_matrix(y_test, y_pred_lstm)\n",
    "cm_lstm = cm_lstm.astype('float') / cm_lstm.sum(axis=1)[:, np.newaxis]\n",
    "plt.figure(figsize=(10,8))\n",
    "heatmap = sns.heatmap(cm_lstm, annot=True, fmt=\".2%\", cmap='Blues',\n",
    "            xticklabels = ['Negative','Positive'], \n",
    "            yticklabels = ['Negative','Positive'],\n",
    "            annot_kws={\"size\": 16},\n",
    "            linecolor='black', linewidth=2 )\n",
    "plt.title(\"word2Vec & LSTM Confusion Matrix\", fontsize=20)\n",
    "plt.xlabel(\"Predicted\", fontsize=17)\n",
    "plt.ylabel(\"Actual\", fontsize=17)\n",
    "\n",
    "heatmap.set_xticklabels(heatmap.get_xticklabels(), size=14)\n",
    "heatmap.set_yticklabels(heatmap.get_xticklabels(), size=14)"
   ]
  },
  {
   "cell_type": "markdown",
   "id": "c7a6f0ee",
   "metadata": {},
   "source": [
    "## Example Tweets"
   ]
  },
  {
   "cell_type": "code",
   "execution_count": 47,
   "id": "bf50e599",
   "metadata": {},
   "outputs": [],
   "source": [
    "def get_sentiment(sentiment_value):\n",
    "    if sentiment_value >= 0.5:\n",
    "        return \"Positive\"\n",
    "    else:\n",
    "        return \"Negative\""
   ]
  },
  {
   "cell_type": "code",
   "execution_count": 48,
   "id": "9483d0e8",
   "metadata": {},
   "outputs": [],
   "source": [
    "def predict_sentiment_svm(tweet):\n",
    "    X_tweet = tfidf.transform([tweet])\n",
    "    sentiment_score = svm_model.predict(X_tweet)\n",
    "    return get_sentiment(sentiment_score)"
   ]
  },
  {
   "cell_type": "code",
   "execution_count": 49,
   "id": "f031bc4e",
   "metadata": {},
   "outputs": [],
   "source": [
    "def predict_sentiment_lstm(tweet):\n",
    "    X_tweet = pad_sequences(tokenizer.texts_to_sequences([tweet]), maxlen=MAX_SEQUENCE_LENGTH)\n",
    "    sentiment_score = lstm_model.predict([X_tweet])[0]\n",
    "    return get_sentiment(sentiment_score)"
   ]
  },
  {
   "cell_type": "code",
   "execution_count": 50,
   "id": "ff824d51",
   "metadata": {
    "scrolled": true
   },
   "outputs": [
    {
     "data": {
      "text/plain": [
       "'Positive'"
      ]
     },
     "execution_count": 50,
     "metadata": {},
     "output_type": "execute_result"
    }
   ],
   "source": [
    "predict_sentiment_svm(\"I love csci218\")"
   ]
  },
  {
   "cell_type": "code",
   "execution_count": 51,
   "id": "d2d7530c",
   "metadata": {},
   "outputs": [
    {
     "name": "stdout",
     "output_type": "stream",
     "text": [
      "1/1 [==============================] - 7s 7s/step\n"
     ]
    },
    {
     "data": {
      "text/plain": [
       "'Positive'"
      ]
     },
     "execution_count": 51,
     "metadata": {},
     "output_type": "execute_result"
    }
   ],
   "source": [
    "predict_sentiment_lstm(\"I love csci218\")"
   ]
  },
  {
   "cell_type": "code",
   "execution_count": 52,
   "id": "2f1710bd",
   "metadata": {},
   "outputs": [
    {
     "data": {
      "text/plain": [
       "'Negative'"
      ]
     },
     "execution_count": 52,
     "metadata": {},
     "output_type": "execute_result"
    }
   ],
   "source": [
    "predict_sentiment_svm(\"I hate jazz\")"
   ]
  },
  {
   "cell_type": "code",
   "execution_count": 53,
   "id": "9f02af99",
   "metadata": {},
   "outputs": [
    {
     "name": "stdout",
     "output_type": "stream",
     "text": [
      "1/1 [==============================] - 0s 221ms/step\n"
     ]
    },
    {
     "data": {
      "text/plain": [
       "'Negative'"
      ]
     },
     "execution_count": 53,
     "metadata": {},
     "output_type": "execute_result"
    }
   ],
   "source": [
    "predict_sentiment_lstm(\"I hate jazz\")"
   ]
  },
  {
   "cell_type": "code",
   "execution_count": null,
   "id": "265e29e3",
   "metadata": {},
   "outputs": [],
   "source": []
  },
  {
   "cell_type": "markdown",
   "id": "91cbedd1",
   "metadata": {},
   "source": [
    "### Word2Vec Word Pair Plot - 'happy' & 'sad'"
   ]
  },
  {
   "cell_type": "code",
   "execution_count": 55,
   "id": "9e9ff6e4",
   "metadata": {},
   "outputs": [
    {
     "data": {
      "image/png": "[encoded data removed]",
      "text/plain": [
       "<Figure size 1000x600 with 1 Axes>"
      ]
     },
     "metadata": {},
     "output_type": "display_data"
    }
   ],
   "source": [
    "word1 = \"happy\"\n",
    "word2 = \"sad\"\n",
    "vec1 = word2Vec.wv[word1]\n",
    "vec2 = word2Vec.wv[word2]\n",
    "\n",
    "similar_words1 = [word for word, _ in word2Vec.wv.most_similar(word1)]\n",
    "similar_words2 = [word for word, _ in word2Vec.wv.most_similar(word2)]\n",
    "\n",
    "plt.figure(figsize=(10, 6))\n",
    "plt.scatter(vec1[0], vec1[1], c='r', marker='o', label=word1)\n",
    "plt.scatter(vec2[0], vec2[1], c='b', marker='o', label=word2)\n",
    "\n",
    "for word, color in zip(similar_words1, ['g', 'c', 'm', 'y']):\n",
    "    word_vector = word2Vec.wv[word]\n",
    "    plt.scatter(word_vector[0], word_vector[1], c=color, marker='x', label=word)\n",
    "\n",
    "for word, color in zip(similar_words2, ['g', 'c', 'm', 'y']):\n",
    "    word_vector = word2Vec.wv[word]\n",
    "    plt.scatter(word_vector[0], word_vector[1], c=color, marker='x', label=word)\n",
    "\n",
    "for word in [word1, word2] + similar_words1 + similar_words2:\n",
    "    word_vector = word2Vec.wv[word]\n",
    "    plt.annotate(word, (word_vector[0], word_vector[1]))\n",
    "\n",
    "plt.legend()\n",
    "plt.xlabel(\"X-axis\")\n",
    "plt.ylabel(\"Y-axis\")\n",
    "plt.title(\"Word Pair Plot\")\n",
    "plt.grid(True)\n",
    "plt.show()"
   ]
  },
  {
   "cell_type": "code",
   "execution_count": null,
   "id": "dcd4d599",
   "metadata": {},
   "outputs": [],
   "source": []
  }
 ],
 "metadata": {
  "kernelspec": {
   "display_name": "Python 3 (ipykernel)",
   "language": "python",
   "name": "python3"
  },
  "language_info": {
   "codemirror_mode": {
    "name": "ipython",
    "version": 3
   },
   "file_extension": ".py",
   "mimetype": "text/x-python",
   "name": "python",
   "nbconvert_exporter": "python",
   "pygments_lexer": "ipython3",
   "version": "3.11.4"
  }
 },
 "nbformat": 4,
 "nbformat_minor": 5
}
